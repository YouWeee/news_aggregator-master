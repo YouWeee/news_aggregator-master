{
 "cells": [
  {
   "cell_type": "code",
   "execution_count": 1,
   "metadata": {},
   "outputs": [],
   "source": [
    "from bs4 import BeautifulSoup\n",
    "import requests"
   ]
  },
  {
   "cell_type": "code",
   "execution_count": 2,
   "metadata": {},
   "outputs": [],
   "source": [
    "#Test \n",
    "url='https://www.moneycontrol.com/news/world/chinas-huawei-continues-rebound-with-strongest-earnings-growth-since-2019-12543141.html'\n",
    "page=requests.get(url)\n",
    "soup=BeautifulSoup(page.text,'html.parser')"
   ]
  },
  {
   "cell_type": "code",
   "execution_count": 3,
   "metadata": {},
   "outputs": [
    {
     "data": {
      "text/plain": [
       "\"China's Huawei continues rebound with strongest earnings growth since 2019\""
      ]
     },
     "execution_count": 3,
     "metadata": {},
     "output_type": "execute_result"
    }
   ],
   "source": [
    "soup.find('h2',class_='article_text').text.strip()"
   ]
  },
  {
   "cell_type": "code",
   "execution_count": 4,
   "metadata": {},
   "outputs": [
    {
     "data": {
      "text/plain": [
       "[<p class=\"my_account\">My Account</p>,\n",
       " <p>Follow us on:</p>,\n",
       " <p>Powered By <svg height=\"26\" version=\"1.2\" viewbox=\"0 0 71 26\" width=\"71\" xmlns=\"https://www.w3.org/2000/svg\"><title>hBits - Fractional Ownership &amp; Investment In Commercial Real Estate</title><defs><image height=\"50\" href=\"data:image/svg+xml;base64,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\" id=\"img1\" width=\"150\"/></defs><use href=\"#img1\" id=\"Signature Logo\" transform=\"matrix(.473,0,0,.473,0,1)\"></use></svg></p>,\n",
       " <p class=\"tit-txt2\">Start generating passive income with up to 10% rental yield and an expected IRR of 18%</p>,\n",
       " <p class=\"MT5\"><span class=\"mcp_btn_blue_tp\" title=\"Invest Now\">Invest Now</span></p>,\n",
       " <p>Powered By <svg fill=\"none\" height=\"26\" viewbox=\"0 0 71 26\" width=\"71\" xmlns=\"https://www.w3.org/2000/svg\"><path d=\"M8.24577 6.69658C6.8123 6.69658 5.77336 7.09769 5.12895 7.89991C4.49769 8.68898 4.18207 9.77395 4.18207 11.1548C4.18207 11.8255 4.26097 12.4371 4.41879 12.9894C4.5766 13.5286 4.81332 13.9955 5.12895 14.39C5.44458 14.7845 5.83911 15.0936 6.31255 15.3172C6.78599 15.5276 7.33834 15.6328 7.9696 15.6328C8.31153 15.6328 8.60085 15.6262 8.83757 15.6131C9.08745 15.5999 9.30444 15.5736 9.48856 15.5342V10.78H12.5659V17.5463C12.1977 17.6909 11.6059 17.8422 10.7905 18C9.97515 18.171 8.96909 18.2564 7.77233 18.2564C6.74654 18.2564 5.81281 18.0986 4.97114 17.783C4.14261 17.4674 3.43245 17.0071 2.84065 16.4021C2.24885 15.7972 1.78856 15.0541 1.45978 14.173C1.14415 13.2919 0.986336 12.2858 0.986336 11.1548C0.986336 10.0107 1.16388 8.99804 1.51896 8.11691C1.87404 7.23578 2.36063 6.49274 2.97874 5.88779C3.59684 5.26968 4.32015 4.80282 5.14868 4.48719C5.99035 4.17156 6.88463 4.01375 7.83151 4.01375C8.47592 4.01375 9.05457 4.05978 9.56746 4.15184C10.0935 4.23074 10.5406 4.32938 10.9089 4.44774C11.2903 4.55295 11.5993 4.66473 11.836 4.78309C12.0859 4.90145 12.2634 4.99351 12.3687 5.05927L11.481 7.52511C11.0601 7.30154 10.5735 7.11085 10.0212 6.95303C9.48198 6.78207 8.89018 6.69658 8.24577 6.69658ZM24.5824 18C24.4378 17.5266 24.2734 17.04 24.0893 16.5402C23.9183 16.0405 23.7473 15.5407 23.5764 15.041H18.2502C18.0792 15.5407 17.9016 16.0405 17.7175 16.5402C17.5466 17.04 17.3888 17.5266 17.2441 18H14.0484C14.5613 16.5271 15.0478 15.1659 15.5081 13.9166C15.9684 12.6672 16.4156 11.4902 16.8496 10.3855C17.2967 9.28079 17.7307 8.23527 18.1515 7.24893C18.5855 6.24944 19.0326 5.27626 19.4929 4.32938H22.4322C22.8794 5.27626 23.3199 6.24944 23.7539 7.24893C24.1879 8.23527 24.6219 9.28079 25.0559 10.3855C25.503 11.4902 25.9567 12.6672 26.417 13.9166C26.8773 15.1659 27.3639 16.5271 27.8768 18H24.5824ZM20.8935 7.42647C20.8278 7.62374 20.7291 7.89334 20.5976 8.23527C20.4661 8.5772 20.3149 8.97173 20.1439 9.41887C19.973 9.86601 19.7823 10.3592 19.5718 10.8984C19.3746 11.4376 19.1707 12.0031 18.9603 12.5949H22.8465C22.6361 12.0031 22.4322 11.4376 22.235 10.8984C22.0377 10.3592 21.847 9.86601 21.6629 9.41887C21.4919 8.97173 21.3407 8.5772 21.2092 8.23527C21.0776 7.89334 20.9724 7.62374 20.8935 7.42647ZM33.7495 4.17156C35.7879 4.17156 37.3529 4.53322 38.4445 5.25653C39.536 5.9667 40.0818 7.13715 40.0818 8.76789C40.0818 10.4118 39.5294 11.602 38.4247 12.3384C37.32 13.0617 35.7419 13.4234 33.6903 13.4234H32.7237V18H29.6463V4.52664C30.3171 4.39513 31.0272 4.30307 31.7768 4.25047C32.5264 4.19787 33.184 4.17156 33.7495 4.17156ZM33.9468 6.79522C33.7232 6.79522 33.4996 6.80179 33.2761 6.81494C33.0656 6.8281 32.8815 6.84125 32.7237 6.8544V10.7997H33.6903C34.7556 10.7997 35.5578 10.6551 36.097 10.3658C36.6362 10.0764 36.9058 9.53723 36.9058 8.74816C36.9058 8.36678 36.8335 8.05115 36.6888 7.80128C36.5573 7.55141 36.36 7.35414 36.097 7.20948C35.8471 7.05167 35.5381 6.94646 35.1698 6.89385C34.8016 6.8281 34.3939 6.79522 33.9468 6.79522Z\" fill=\"black\"></path><path d=\"M48.5254 4.15184V12.4371C48.5254 13.2656 48.7293 13.9034 49.137 14.3506C49.5446 14.7977 50.143 15.0213 50.9321 15.0213C51.7212 15.0213 52.3261 14.7977 52.7469 14.3506C53.1678 13.9034 53.3782 13.2656 53.3782 12.4371V4.15184H56.7515V12.4173C56.7515 13.6535 56.4885 14.6991 55.9624 15.5539C55.4364 16.4087 54.7262 17.0531 53.8319 17.4871C52.9508 17.9211 51.9645 18.1381 50.8729 18.1381C49.7814 18.1381 48.8016 17.9277 47.9336 17.5068C47.0788 17.0728 46.4015 16.4284 45.9018 15.5736C45.402 14.7056 45.1522 13.6535 45.1522 12.4173V4.15184H48.5254ZM69.674 8.61008C69.674 9.4123 69.4899 10.1488 69.1217 10.8195C68.7534 11.477 68.1879 12.0096 67.4252 12.4173C66.6624 12.825 65.7155 13.0289 64.5845 13.0289H62.4935V18H59.1202V4.15184H64.5845C65.6892 4.15184 66.623 4.34253 67.3857 4.72391C68.1485 5.10529 68.7206 5.63134 69.1019 6.30205C69.4833 6.97276 69.674 7.7421 69.674 8.61008ZM64.3281 10.346C64.9725 10.346 65.4525 10.1948 65.7681 9.89231C66.0838 9.58984 66.2416 9.16243 66.2416 8.61008C66.2416 8.05773 66.0838 7.63032 65.7681 7.32784C65.4525 7.02536 64.9725 6.87412 64.3281 6.87412H62.4935V10.346H64.3281Z\" fill=\"#04DD82\"></path><path d=\"M44.7313 24.5941C44.6644 24.5941 44.5911 24.5925 44.5113 24.5893C44.4348 24.5862 44.3567 24.5814 44.277 24.575C44.2005 24.5686 44.124 24.5606 44.0475 24.5511C43.971 24.5415 43.9008 24.5288 43.8371 24.5128V21.2992C43.9008 21.2832 43.971 21.2705 44.0475 21.2609C44.124 21.2513 44.2005 21.2434 44.277 21.237C44.3567 21.2306 44.4348 21.2258 44.5113 21.2226C44.5879 21.2195 44.6596 21.2179 44.7265 21.2179C44.9178 21.2179 45.0964 21.2322 45.2622 21.2609C45.4311 21.2896 45.5762 21.339 45.6973 21.4092C45.8217 21.4761 45.9189 21.5654 45.9891 21.677C46.0592 21.7885 46.0943 21.9256 46.0943 22.0882C46.0943 22.27 46.0512 22.4198 45.9651 22.5378C45.8791 22.6525 45.7643 22.7386 45.6208 22.796C45.8153 22.8534 45.9699 22.9443 46.0847 23.0686C46.1995 23.1929 46.2569 23.3683 46.2569 23.5946C46.2569 23.9262 46.1341 24.1765 45.8886 24.3454C45.6463 24.5112 45.2606 24.5941 44.7313 24.5941ZM44.2961 23.0208V24.1876C44.3312 24.1908 44.3727 24.194 44.4205 24.1972C44.4619 24.2004 44.5098 24.2036 44.564 24.2068C44.6213 24.2068 44.6867 24.2068 44.76 24.2068C44.8971 24.2068 45.0262 24.1988 45.1474 24.1829C45.2717 24.1637 45.3801 24.1318 45.4726 24.0872C45.565 24.0426 45.6384 23.9804 45.6926 23.9007C45.7499 23.821 45.7786 23.7206 45.7786 23.5994C45.7786 23.491 45.7579 23.4002 45.7165 23.3268C45.675 23.2503 45.6145 23.1897 45.5347 23.1451C45.4582 23.1005 45.3658 23.0686 45.2574 23.0495C45.149 23.0303 45.0278 23.0208 44.8939 23.0208H44.2961ZM44.2961 22.6478H44.7839C44.8987 22.6478 45.0071 22.6398 45.1091 22.6238C45.2111 22.6079 45.2988 22.5792 45.3722 22.5378C45.4487 22.4963 45.5076 22.4421 45.5491 22.3752C45.5937 22.3082 45.616 22.2237 45.616 22.1217C45.616 22.0261 45.5937 21.9464 45.5491 21.8826C45.5045 21.8156 45.4423 21.763 45.3626 21.7248C45.2861 21.6833 45.1952 21.653 45.09 21.6339C44.9848 21.6148 44.8732 21.6052 44.7552 21.6052C44.6373 21.6052 44.5448 21.6068 44.4779 21.61C44.4109 21.6132 44.3503 21.618 44.2961 21.6244V22.6478ZM46.5896 25.0293C46.6247 25.0452 46.6693 25.0596 46.7235 25.0723C46.7809 25.0883 46.8367 25.0963 46.8909 25.0963C47.0662 25.0963 47.2033 25.0564 47.3022 24.9767C47.401 24.9002 47.4903 24.7743 47.57 24.5989C47.3691 24.2163 47.181 23.8114 47.0057 23.3842C46.8335 22.9538 46.69 22.5186 46.5753 22.0787H47.0535C47.0886 22.2221 47.13 22.3768 47.1778 22.5425C47.2288 22.7083 47.2846 22.8789 47.3452 23.0542C47.4058 23.2296 47.4711 23.4049 47.5413 23.5803C47.6114 23.7556 47.6847 23.9246 47.7613 24.0872C47.8824 23.7524 47.9876 23.4209 48.0769 23.0925C48.1661 22.7641 48.2506 22.4262 48.3303 22.0787H48.7894C48.6747 22.5473 48.5471 22.9984 48.4069 23.432C48.2666 23.8624 48.1151 24.2657 47.9525 24.6419C47.8888 24.7854 47.8218 24.9082 47.7517 25.0102C47.6847 25.1154 47.6098 25.2015 47.5269 25.2684C47.444 25.3354 47.35 25.3848 47.2448 25.4167C47.1428 25.4485 47.0264 25.4645 46.8957 25.4645C46.8606 25.4645 46.8239 25.4613 46.7857 25.4549C46.7474 25.4517 46.7092 25.4454 46.6709 25.4358C46.6358 25.4294 46.6024 25.4215 46.5705 25.4119C46.5418 25.4023 46.5211 25.3944 46.5083 25.388L46.5896 25.0293Z\" fill=\"#222222\"></path><path clip-rule=\"evenodd\" d=\"M52.393 22.0338C51.9745 21.0539 51.9623 20.9374 52.2573 20.7367C52.4706 20.5917 52.52 20.6123 54.6877 21.7494C56.5154 22.7082 56.7892 22.8486 56.8299 23.0415C56.8378 23.0791 56.8369 23.1187 56.8369 23.1667C56.8369 23.4345 56.8127 23.4492 54.6369 24.4986C52.5264 25.5166 52.49 25.5305 52.2856 25.3967C52.1681 25.3198 52.0649 25.1461 52.0647 25.0249C52.0647 24.9712 52.2152 24.5984 52.3992 24.1964C52.5833 23.7944 52.7442 23.4313 52.7569 23.3894C52.7784 23.3185 52.7986 23.3134 53.0569 23.3144C53.2545 23.3152 53.3532 23.3305 53.4015 23.3681C53.4686 23.4202 53.4684 23.4212 53.3864 23.4769C53.1362 23.6469 53.1336 23.676 53.3578 23.7904C53.5687 23.8978 53.7517 23.8865 53.9599 23.753C54.1169 23.6523 54.1714 23.6379 54.4958 23.6106C54.6944 23.5939 54.9302 23.5567 55.0199 23.5279C55.1913 23.4728 55.4492 23.2584 55.4492 23.171C55.4492 23.0835 55.3278 22.9597 55.1438 22.8597C54.9957 22.7791 54.8993 22.7574 54.5399 22.7234C54.1524 22.6868 54.0966 22.6729 53.9449 22.5755C53.7074 22.4229 53.4557 22.4374 53.2323 22.6164C53.1652 22.6702 53.1654 22.6714 53.2528 22.7469C53.3013 22.7887 53.3698 22.8413 53.4051 22.8637C53.4666 22.9027 53.4658 22.9071 53.3846 22.9728C53.3163 23.0281 53.2499 23.0415 53.0403 23.0421L52.7807 23.0428L52.7578 22.9383C52.7451 22.8808 52.581 22.4738 52.393 22.0338Z\" fill=\"#6A1B9A\" fill-rule=\"evenodd\"></path><path d=\"M58.75 25.4026V20.7206H60.7164C61.1422 20.7206 61.4962 20.8745 61.7787 21.1821C62.0611 21.4854 62.2023 21.8488 62.2023 22.2724C62.2023 22.5979 62.1138 22.8877 61.9367 23.1419C61.7597 23.396 61.53 23.5677 61.2475 23.6569L62.2592 25.4026H61.4119L60.4445 23.7572H59.4961V25.4026H58.75ZM60.6848 23.0616C60.9082 23.0616 61.0958 22.9858 61.2475 22.8342C61.3993 22.6781 61.4752 22.4819 61.4752 22.2456C61.4752 22.0182 61.4056 21.8265 61.2665 21.6704C61.1274 21.5143 60.944 21.4363 60.7164 21.4363H59.4961V23.0616H60.6848ZM62.8819 25.4026V20.7206H63.6407V25.4026H62.8819ZM64.9053 21.3694C65.3436 20.9057 65.8748 20.6738 66.4986 20.6738C66.9539 20.6738 67.3585 20.8031 67.7126 21.0618C68.0667 21.3159 68.3323 21.6593 68.5093 22.0918L67.7885 22.2991C67.6705 22.0316 67.4976 21.8198 67.27 21.6637C67.0424 21.5077 66.7853 21.4296 66.4986 21.4296C66.0729 21.4296 65.7167 21.5879 65.4301 21.9045C65.1434 22.2211 65.0001 22.609 65.0001 23.0683C65.0001 23.5231 65.1413 23.9088 65.4237 24.2254C65.7104 24.5375 66.0687 24.6936 66.4986 24.6936C66.8358 24.6936 67.1309 24.5888 67.3838 24.3792C67.6367 24.1697 67.8053 23.8821 67.8897 23.5164L66.5113 23.5231L66.4986 22.8409H68.6231V23.1352C68.6231 23.7996 68.4208 24.3525 68.0161 24.7939C67.6156 25.2353 67.1098 25.4561 66.4986 25.4561C65.8748 25.4561 65.3436 25.222 64.9053 24.7538C64.4668 24.2856 64.2477 23.7238 64.2477 23.0683C64.2477 22.4039 64.4668 21.8376 64.9053 21.3694ZM69.2295 25.4026V20.7206H69.9883V25.4026H69.2295Z\" fill=\"#6A1B9A\"></path></svg></p>,\n",
       " <p class=\"tit-txt2\">Unlock Your Trading Potential: Trade like Experts with SEBI registered creators, Learn from Courses &amp; Webinars by India's Finest Finance Experts.</p>,\n",
       " <p class=\"MT5\"><span class=\"mcp_btn_blue_tp\" title=\"Invest Now\">Invest Now</span></p>,\n",
       " <p>China's Huawei Technologies saw its fastest growth in four years in 2023, with a rebound in its consumer segment and income from new businesses like smart car components accelerating its recovery from U.S. sanctions.</p>,\n",
       " <p>Revenue rose 9.63% from a year earlier to 704.2 billion yuan ($97.48 billion), with the consumer business contributing most to that figure, growing 17.3% to 251.49 billion yuan.</p>,\n",
       " <p>While Huawei did not break down the consumer figure, the segment includes its handset business, which saw a renaissance last year as the company returned to the mainstream 5G smartphones market with the Mate 60, apparently overcoming U.S. restrictions.</p>,\n",
       " <p class=\"lastPara\">From 2019, the U.S. has restricted Huawei's access to U.S. technology, accusing the company of being a security risk, which Huawei denies.</p>,\n",
       " <p>Last year marked the third consecutive year of growth for the company after revenue plummeted by almost a third in 2021 when the company started to exhaust chip reserves, though revenue remains below its 2020 peak of 891.3 billion yuan.</p>,\n",
       " <p>Huawei was relatively muted about its achievement, doing away with the press conference and launch event it has held every year at least since the U.S. restrictions began.</p>,\n",
       " <p>In a press release, rotating chairman Ken Hu said the results were in line with forecasts.</p>,\n",
       " <p>\"We've been through a lot over the past few years. But through one challenge after another, we've managed to grow.\"</p>,\n",
       " <p>At a launch event last year, Meng Wangzhou, Huawei's CFO and the daughter of the company's founder, announced that Huawei was no longer in crisis mode.</p>,\n",
       " <p>Net profit in 2023 rose by 144.5% to 87 billion yuan, with the net profit margin more than doubling on a year earlier to 12.35%.</p>,\n",
       " <p>Some of that came from ongoing payment from the sale of the Honor smartphone brand, which Huawei sold in November 2020, a company spokesperson said.</p>,\n",
       " <p>While the company's core ICT infrastructure business remained stable, its cloud business grew by more than a fifth, generating revenue of 55.3 billion yuan.</p>,\n",
       " <p>Huawei's four-year-old smart car software and components business also saw major growth albeit from a lower comparison base, up 128.1% year on year to 4.7 billion yuan.</p>,\n",
       " <p>Last year Huawei announced it would spin off the smart car unit into a new company.</p>,\n",
       " <p>Earlier this month, Richard Yu, the managing director and chairman of Huawei's smart car solutions, announced the unit would likely turn a profit from April after losing billions of yuan in the past year, local media reported.</p>,\n",
       " <p>            Discover the latest <a href=\"https://www.moneycontrol.com/news/business/\" target=\"_blank\" title=\"business news\">business news</a>, <a href=\"https://www.moneycontrol.com/sensex/bse/sensex-live\" target=\"_blank\" title=\"Sensex\">Sensex</a>, and <a href=\"https://www.moneycontrol.com/indian-indices/nifty-50-9.html\" target=\"_blank\" title=\"Nifty\">Nifty</a> updates. Obtain <a href=\"https://www.moneycontrol.com/news/business/personal-finance/\" target=\"_blank\" title=\"Personal Finance\">Personal Finance</a> insights, tax queries, and expert opinions on <a href=\"https://www.moneycontrol.com/\" target=\"_blank\" title=\"Moneycontrol\">Moneycontrol</a> or download the <a href=\"https://www.moneycontrol.com/apps\" target=\"_blank\" title=\"Moneycontrol App\">Moneycontrol App</a> to stay updated!\n",
       "       </p>,\n",
       " <p class=\"copyright MT10\"> Copyright © e-Eighteen.com Ltd. All rights reserved. Reproduction of news articles, photos, videos or any other content in whole or in part in any form \n",
       "         or medium without express writtern permission of moneycontrol.com is prohibited.</p>,\n",
       " <p><span>You are already a Moneycontrol Pro user.</span></p>,\n",
       " <p>Access your Detailed Credit Report - absolutely free</p>]"
      ]
     },
     "execution_count": 4,
     "metadata": {},
     "output_type": "execute_result"
    }
   ],
   "source": [
    "soup.find_all('p')"
   ]
  },
  {
   "cell_type": "code",
   "execution_count": 5,
   "metadata": {},
   "outputs": [],
   "source": [
    "\n",
    "div_tag = soup.find('div', class_='article_image')\n",
    "\n",
    "news_paras = []\n",
    "\n",
    "if div_tag:\n",
    "    following_p_tags = div_tag.find_all_next('p')\n",
    "    if following_p_tags:\n",
    "        for p_tag in following_p_tags:\n",
    "            news_paras.append(p_tag.text.strip())"
   ]
  },
  {
   "cell_type": "code",
   "execution_count": 6,
   "metadata": {},
   "outputs": [
    {
     "data": {
      "text/plain": [
       "[\"China's Huawei Technologies saw its fastest growth in four years in 2023, with a rebound in its consumer segment and income from new businesses like smart car components accelerating its recovery from U.S. sanctions.\",\n",
       " 'Revenue rose 9.63% from a year earlier to 704.2 billion yuan ($97.48 billion), with the consumer business contributing most to that figure, growing 17.3% to 251.49 billion yuan.',\n",
       " 'While Huawei did not break down the consumer figure, the segment includes its handset business, which saw a renaissance last year as the company returned to the mainstream 5G smartphones market with the Mate 60, apparently overcoming U.S. restrictions.',\n",
       " \"From 2019, the U.S. has restricted Huawei's access to U.S. technology, accusing the company of being a security risk, which Huawei denies.\",\n",
       " 'Last year marked the third consecutive year of growth for the company after revenue plummeted by almost a third in 2021 when the company started to exhaust chip reserves, though revenue remains below its 2020 peak of 891.3 billion yuan.',\n",
       " 'Huawei was relatively muted about its achievement, doing away with the press conference and launch event it has held every year at least since the U.S. restrictions began.',\n",
       " 'In a press release, rotating chairman Ken Hu said the results were in line with forecasts.',\n",
       " '\"We\\'ve been through a lot over the past few years. But through one challenge after another, we\\'ve managed to grow.\"',\n",
       " \"At a launch event last year, Meng Wangzhou, Huawei's CFO and the daughter of the company's founder, announced that Huawei was no longer in crisis mode.\",\n",
       " 'Net profit in 2023 rose by 144.5% to 87 billion yuan, with the net profit margin more than doubling on a year earlier to 12.35%.',\n",
       " 'Some of that came from ongoing payment from the sale of the Honor smartphone brand, which Huawei sold in November 2020, a company spokesperson said.',\n",
       " \"While the company's core ICT infrastructure business remained stable, its cloud business grew by more than a fifth, generating revenue of 55.3 billion yuan.\",\n",
       " \"Huawei's four-year-old smart car software and components business also saw major growth albeit from a lower comparison base, up 128.1% year on year to 4.7 billion yuan.\",\n",
       " 'Last year Huawei announced it would spin off the smart car unit into a new company.',\n",
       " \"Earlier this month, Richard Yu, the managing director and chairman of Huawei's smart car solutions, announced the unit would likely turn a profit from April after losing billions of yuan in the past year, local media reported.\",\n",
       " 'Discover the latest business news, Sensex, and Nifty updates. Obtain Personal Finance insights, tax queries, and expert opinions on Moneycontrol or download the Moneycontrol App to stay updated!',\n",
       " 'Copyright © e-Eighteen.com Ltd. All rights reserved. Reproduction of news articles, photos, videos or any other content in whole or in part in any form \\r\\n        or medium without express writtern permission of moneycontrol.com is prohibited.',\n",
       " 'You are already a Moneycontrol Pro user.',\n",
       " 'Access your Detailed Credit Report - absolutely free']"
      ]
     },
     "execution_count": 6,
     "metadata": {},
     "output_type": "execute_result"
    }
   ],
   "source": [
    "news_paras"
   ]
  },
  {
   "cell_type": "code",
   "execution_count": 7,
   "metadata": {},
   "outputs": [
    {
     "name": "stdout",
     "output_type": "stream",
     "text": [
      "Summary:\n",
      "Huawei's four-year-old smart car software and components business also saw major growth albeit from a lower comparison base, up 128.1% year on year to 4.7 billion yuan. Revenue rose 9.63% from a year earlier to 704.2 billion yuan ($97.48 billion), with the consumer business contributing most to that figure, growing 17.3% to 251.49 billion yuan. At a launch event last year, Meng Wangzhou, Huawei's CFO and the daughter of the company's founder, announced that Huawei was no longer in crisis mode. Last year Huawei announced it would spin off the smart car unit into a new company. While the company's core ICT infrastructure business remained stable, its cloud business grew by more than a fifth, generating revenue of 55.3 billion yuan.\n"
     ]
    }
   ],
   "source": [
    "news_string = '\\n'.join(news_paras)\n",
    "\n",
    "import nltk\n",
    "from nltk.tokenize import sent_tokenize, word_tokenize\n",
    "from nltk.corpus import stopwords\n",
    "from collections import Counter\n",
    "from heapq import nlargest  # Import nlargest function from heapq module\n",
    "\n",
    "sentences = sent_tokenize(news_string)\n",
    "\n",
    "stop_words = set(stopwords.words('english'))\n",
    "word_tokens = [word.lower() for sentence in sentences for word in word_tokenize(sentence) if word.isalnum()]\n",
    "filtered_tokens = [word for word in word_tokens if word not in stop_words]\n",
    "\n",
    "word_freq = Counter(filtered_tokens)\n",
    "\n",
    "sentence_scores = {}\n",
    "for sentence in sentences:\n",
    "    for word in word_tokenize(sentence.lower()):\n",
    "        if word in word_freq:\n",
    "            if len(sentence.split(' ')) < 30:  \n",
    "                if sentence not in sentence_scores:\n",
    "                    sentence_scores[sentence] = word_freq[word]\n",
    "                else:\n",
    "                    sentence_scores[sentence] += word_freq[word]\n",
    "\n",
    "summary_sentences = nlargest(5, sentence_scores, key=sentence_scores.get)\n",
    "summary = ' '.join(summary_sentences)\n",
    "\n",
    "print(\"Summary:\")\n",
    "print(summary)\n"
   ]
  },
  {
   "cell_type": "code",
   "execution_count": 8,
   "metadata": {},
   "outputs": [
    {
     "name": "stdout",
     "output_type": "stream",
     "text": [
      "Summary:\n",
      "Earlier this month, Richard Yu, the managing director and chairman of Huawei's smart car solutions, announced the unit would likely turn a profit from April after losing billions of yuan in the past year, local media reported. Last year marked the third consecutive year of growth for the company after revenue plummeted by almost a third in 2021 when the company started to exhaust chip reserves, though revenue remains below its 2020 peak of 891.3 billion yuan. While Huawei did not break down the consumer figure, the segment includes its handset business, which saw a renaissance last year as the company returned to the mainstream 5G smartphones market with the Mate 60, apparently overcoming U.S. restrictions. China's Huawei Technologies saw its fastest growth in four years in 2023, with a rebound in its consumer segment and income from new businesses like smart car components accelerating its recovery from U.S. sanctions. At a launch event last year, Meng Wangzhou, Huawei's CFO and the daughter of the company's founder, announced that Huawei was no longer in crisis mode.\n"
     ]
    }
   ],
   "source": [
    "import nltk\n",
    "from nltk.tokenize import sent_tokenize, word_tokenize\n",
    "from nltk.corpus import stopwords\n",
    "from collections import Counter\n",
    "from heapq import nlargest\n",
    "from sklearn.feature_extraction.text import TfidfVectorizer\n",
    "from sklearn.metrics.pairwise import cosine_similarity\n",
    "import numpy as np \n",
    "\n",
    "news_string = '\\n'.join(news_paras)\n",
    "\n",
    "sentences = sent_tokenize(news_string)\n",
    "\n",
    "stop_words = set(stopwords.words('english'))\n",
    "word_tokens = [word.lower() for sentence in sentences for word in word_tokenize(sentence) if word.isalnum()]\n",
    "filtered_tokens = [word for word in word_tokens if word not in stop_words]\n",
    "\n",
    "word_freq = Counter(filtered_tokens)\n",
    "\n",
    "tfidf_vectorizer = TfidfVectorizer()\n",
    "tfidf_matrix = tfidf_vectorizer.fit_transform(sentences)\n",
    "tfidf_scores = tfidf_matrix.sum(axis=1)\n",
    "\n",
    "sentence_scores = {sentence: score for sentence, score in zip(sentences, tfidf_scores)}\n",
    "\n",
    "similarity_matrix = cosine_similarity(tfidf_matrix, tfidf_matrix)\n",
    "similarity_graph = similarity_matrix - np.eye(similarity_matrix.shape[0])  \n",
    "sentence_ranks = np.array(similarity_graph.sum(axis=1)).flatten()\n",
    "\n",
    "for i, sentence in enumerate(sentences):\n",
    "    sentence_scores[sentence] += sentence_ranks[i]\n",
    "\n",
    "summary_sentences = nlargest(5, sentence_scores, key=sentence_scores.get)\n",
    "summary = ' '.join(summary_sentences)\n",
    "\n",
    "print(\"Summary:\")\n",
    "print(summary)\n"
   ]
  },
  {
   "cell_type": "code",
   "execution_count": 9,
   "metadata": {},
   "outputs": [
    {
     "name": "stdout",
     "output_type": "stream",
     "text": [
      "Original Text:\n",
      "China's Huawei Technologies saw its fastest growth in four years in 2023, with a rebound in its consumer segment and income from new businesses like smart car components accelerating its recovery from U.S. sanctions.\n",
      "Revenue rose 9.63% from a year earlier to 704.2 billion yuan ($97.48 billion), with the consumer business contributing most to that figure, growing 17.3% to 251.49 billion yuan.\n",
      "While Huawei did not break down the consumer figure, the segment includes its handset business, which saw a renaissance last year as the company returned to the mainstream 5G smartphones market with the Mate 60, apparently overcoming U.S. restrictions.\n",
      "From 2019, the U.S. has restricted Huawei's access to U.S. technology, accusing the company of being a security risk, which Huawei denies.\n",
      "Last year marked the third consecutive year of growth for the company after revenue plummeted by almost a third in 2021 when the company started to exhaust chip reserves, though revenue remains below its 2020 peak of 891.3 billion yuan.\n",
      "Huawei was relatively muted about its achievement, doing away with the press conference and launch event it has held every year at least since the U.S. restrictions began.\n",
      "In a press release, rotating chairman Ken Hu said the results were in line with forecasts.\n",
      "\"We've been through a lot over the past few years. But through one challenge after another, we've managed to grow.\"\n",
      "At a launch event last year, Meng Wangzhou, Huawei's CFO and the daughter of the company's founder, announced that Huawei was no longer in crisis mode.\n",
      "Net profit in 2023 rose by 144.5% to 87 billion yuan, with the net profit margin more than doubling on a year earlier to 12.35%.\n",
      "Some of that came from ongoing payment from the sale of the Honor smartphone brand, which Huawei sold in November 2020, a company spokesperson said.\n",
      "While the company's core ICT infrastructure business remained stable, its cloud business grew by more than a fifth, generating revenue of 55.3 billion yuan.\n",
      "Huawei's four-year-old smart car software and components business also saw major growth albeit from a lower comparison base, up 128.1% year on year to 4.7 billion yuan.\n",
      "Last year Huawei announced it would spin off the smart car unit into a new company.\n",
      "Earlier this month, Richard Yu, the managing director and chairman of Huawei's smart car solutions, announced the unit would likely turn a profit from April after losing billions of yuan in the past year, local media reported.\n",
      "Discover the latest business news, Sensex, and Nifty updates. Obtain Personal Finance insights, tax queries, and expert opinions on Moneycontrol or download the Moneycontrol App to stay updated!\n",
      "Copyright © e-Eighteen.com Ltd. All rights reserved. Reproduction of news articles, photos, videos or any other content in whole or in part in any form \n",
      "        or medium without express writtern permission of moneycontrol.com is prohibited.\n",
      "You are already a Moneycontrol Pro user.\n",
      "Access your Detailed Credit Report - absolutely free\n",
      "\n",
      "Summary:\n",
      "Huawei was relatively muted about its achievement, doing away with the press conference and launch event it has held every year at least since the U.S. restrictions began.\n",
      "At a launch event last year, Meng Wangzhou, Huawei's CFO and the daughter of the company's founder, announced that Huawei was no longer in crisis mode.\n",
      "Last year Huawei announced it would spin off the smart car unit into a new company.\n"
     ]
    }
   ],
   "source": [
    "from sumy.parsers.plaintext import PlaintextParser\n",
    "from sumy.nlp.tokenizers import Tokenizer\n",
    "from sumy.summarizers.lsa import LsaSummarizer\n",
    "news_string = '\\n'.join(news_paras)\n",
    "\n",
    "# Input text to be summarized\n",
    "input_text = news_string\n",
    "\n",
    "# Parse the input text\n",
    "parser = PlaintextParser.from_string(input_text, Tokenizer(\"english\"))\n",
    "\n",
    "# Create an LSA summarizer\n",
    "summarizer = LsaSummarizer()\n",
    "\n",
    "# Generate the summary\n",
    "summary = summarizer(parser.document, sentences_count=3)  # You can adjust the number of sentences in the summary\n",
    "\n",
    "# Output the summary\n",
    "print(\"Original Text:\")\n",
    "print(input_text)\n",
    "print(\"\\nSummary:\")\n",
    "for sentence in summary:\n",
    "    print(sentence)"
   ]
  },
  {
   "cell_type": "code",
   "execution_count": 10,
   "metadata": {},
   "outputs": [
    {
     "data": {
      "text/plain": [
       "'China\\'s Huawei Technologies saw its fastest growth in four years in 2023, with a rebound in its consumer segment and income from new businesses like smart car components accelerating its recovery from U.S. sanctions.\\nRevenue rose 9.63% from a year earlier to 704.2 billion yuan ($97.48 billion), with the consumer business contributing most to that figure, growing 17.3% to 251.49 billion yuan.\\nWhile Huawei did not break down the consumer figure, the segment includes its handset business, which saw a renaissance last year as the company returned to the mainstream 5G smartphones market with the Mate 60, apparently overcoming U.S. restrictions.\\nFrom 2019, the U.S. has restricted Huawei\\'s access to U.S. technology, accusing the company of being a security risk, which Huawei denies.\\nLast year marked the third consecutive year of growth for the company after revenue plummeted by almost a third in 2021 when the company started to exhaust chip reserves, though revenue remains below its 2020 peak of 891.3 billion yuan.\\nHuawei was relatively muted about its achievement, doing away with the press conference and launch event it has held every year at least since the U.S. restrictions began.\\nIn a press release, rotating chairman Ken Hu said the results were in line with forecasts.\\n\"We\\'ve been through a lot over the past few years. But through one challenge after another, we\\'ve managed to grow.\"\\nAt a launch event last year, Meng Wangzhou, Huawei\\'s CFO and the daughter of the company\\'s founder, announced that Huawei was no longer in crisis mode.\\nNet profit in 2023 rose by 144.5% to 87 billion yuan, with the net profit margin more than doubling on a year earlier to 12.35%.\\nSome of that came from ongoing payment from the sale of the Honor smartphone brand, which Huawei sold in November 2020, a company spokesperson said.\\nWhile the company\\'s core ICT infrastructure business remained stable, its cloud business grew by more than a fifth, generating revenue of 55.3 billion yuan.\\nHuawei\\'s four-year-old smart car software and components business also saw major growth albeit from a lower comparison base, up 128.1% year on year to 4.7 billion yuan.\\nLast year Huawei announced it would spin off the smart car unit into a new company.\\nEarlier this month, Richard Yu, the managing director and chairman of Huawei\\'s smart car solutions, announced the unit would likely turn a profit from April after losing billions of yuan in the past year, local media reported.\\nDiscover the latest business news, Sensex, and Nifty updates. Obtain Personal Finance insights, tax queries, and expert opinions on Moneycontrol or download the Moneycontrol App to stay updated!\\nCopyright © e-Eighteen.com Ltd. All rights reserved. Reproduction of news articles, photos, videos or any other content in whole or in part in any form \\r\\n        or medium without express writtern permission of moneycontrol.com is prohibited.\\nYou are already a Moneycontrol Pro user.\\nAccess your Detailed Credit Report - absolutely free'"
      ]
     },
     "execution_count": 10,
     "metadata": {},
     "output_type": "execute_result"
    }
   ],
   "source": [
    "news_string"
   ]
  },
  {
   "cell_type": "code",
   "execution_count": 11,
   "metadata": {},
   "outputs": [
    {
     "name": "stderr",
     "output_type": "stream",
     "text": [
      "/Users/abhasjaiswal/Desktop/News-Aggregator/venv/lib/python3.11/site-packages/tqdm/auto.py:21: TqdmWarning: IProgress not found. Please update jupyter and ipywidgets. See https://ipywidgets.readthedocs.io/en/stable/user_install.html\n",
      "  from .autonotebook import tqdm as notebook_tqdm\n"
     ]
    },
    {
     "name": "stdout",
     "output_type": "stream",
     "text": [
      "Summary:\n",
      "Huawei achieved its fastest growth in four years in 2023, driven by a rebound in consumer demand, notably in its 5G smartphone segment. The consumer business contributed significantly to the 9.63% revenue increase, which reached 704.2 billion yuan. Despite ongoing US sanctions, Huawei also experienced growth in its cloud and smart car components businesses, resulting in a significant 144.5% increase in net profit to 87 billion yuan.\n"
     ]
    }
   ],
   "source": [
    "import google.generativeai as genai\n",
    "import os\n",
    "from dotenv import load_dotenv\n",
    "load_dotenv()\n",
    "\n",
    "api_key = os.getenv('API_KEY')\n",
    "genai.configure(api_key=api_key)\n",
    "\n",
    "model = genai.GenerativeModel('gemini-pro')\n",
    "response = model.generate_content('summarise this news article in short but dont miss any point: ' + news_string)\n",
    "\n",
    "print(\"Summary:\")\n",
    "print(response.text)\n"
   ]
  }
 ],
 "metadata": {
  "kernelspec": {
   "display_name": "venv",
   "language": "python",
   "name": "python3"
  },
  "language_info": {
   "codemirror_mode": {
    "name": "ipython",
    "version": 3
   },
   "file_extension": ".py",
   "mimetype": "text/x-python",
   "name": "python",
   "nbconvert_exporter": "python",
   "pygments_lexer": "ipython3",
   "version": "3.11.8"
  }
 },
 "nbformat": 4,
 "nbformat_minor": 2
}
