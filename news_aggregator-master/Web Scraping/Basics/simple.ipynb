{
 "cells": [
  {
   "cell_type": "code",
   "execution_count": 2,
   "metadata": {},
   "outputs": [],
   "source": [
    "from bs4 import BeautifulSoup\n",
    "import requests"
   ]
  },
  {
   "cell_type": "code",
   "execution_count": 3,
   "metadata": {},
   "outputs": [],
   "source": [
    "with open('simple.html') as html_file:\n",
    "     soup=BeautifulSoup(html_file,'lxml') "
   ]
  },
  {
   "cell_type": "code",
   "execution_count": 4,
   "metadata": {},
   "outputs": [
    {
     "data": {
      "text/plain": [
       "<!DOCTYPE html>\n",
       "<html class=\"no-js\" lang=\"\">\n",
       "<head>\n",
       "<title>Test - A Sample Website</title>\n",
       "<meta charset=\"utf-8\"/>\n",
       "<link href=\"css/normalize.css\" rel=\"stylesheet\"/>\n",
       "<link href=\"css/main.css\" rel=\"stylesheet\"/>\n",
       "</head>\n",
       "<body>\n",
       "<h1 id=\"site_title\">Test Website</h1>\n",
       "<hr/>\n",
       "<div class=\"article\">\n",
       "<h2><a href=\"article_1.html\">Article 1 Headline</a></h2>\n",
       "<p>This is a summary of article 1</p>\n",
       "</div>\n",
       "<hr/>\n",
       "<div class=\"article\">\n",
       "<h2><a href=\"article_2.html\">Article 2 Headline</a></h2>\n",
       "<p>This is a summary of article 2</p>\n",
       "</div>\n",
       "<hr/>\n",
       "<div class=\"footer\">\n",
       "<p>Footer Information</p>\n",
       "</div>\n",
       "<script src=\"js/vendor/modernizr-3.5.0.min.js\"></script>\n",
       "<script src=\"js/plugins.js\"></script>\n",
       "<script src=\"js/main.js\"></script>\n",
       "</body>\n",
       "</html>"
      ]
     },
     "execution_count": 4,
     "metadata": {},
     "output_type": "execute_result"
    }
   ],
   "source": [
    "soup"
   ]
  },
  {
   "cell_type": "code",
   "execution_count": 8,
   "metadata": {},
   "outputs": [
    {
     "data": {
      "text/plain": [
       "'<!DOCTYPE html>\\n<html class=\"no-js\" lang=\"\">\\n <head>\\n  <title>\\n   Test - A Sample Website\\n  </title>\\n  <meta charset=\"utf-8\"/>\\n  <link href=\"css/normalize.css\" rel=\"stylesheet\"/>\\n  <link href=\"css/main.css\" rel=\"stylesheet\"/>\\n </head>\\n <body>\\n  <h1 id=\"site_title\">\\n   Test Website\\n  </h1>\\n  <hr/>\\n  <div class=\"article\">\\n   <h2>\\n    <a href=\"article_1.html\">\\n     Article 1 Headline\\n    </a>\\n   </h2>\\n   <p>\\n    This is a summary of article 1\\n   </p>\\n  </div>\\n  <hr/>\\n  <div class=\"article\">\\n   <h2>\\n    <a href=\"article_2.html\">\\n     Article 2 Headline\\n    </a>\\n   </h2>\\n   <p>\\n    This is a summary of article 2\\n   </p>\\n  </div>\\n  <hr/>\\n  <div class=\"footer\">\\n   <p>\\n    Footer Information\\n   </p>\\n  </div>\\n  <script src=\"js/vendor/modernizr-3.5.0.min.js\">\\n  </script>\\n  <script src=\"js/plugins.js\">\\n  </script>\\n  <script src=\"js/main.js\">\\n  </script>\\n </body>\\n</html>\\n'"
      ]
     },
     "execution_count": 8,
     "metadata": {},
     "output_type": "execute_result"
    }
   ],
   "source": [
    "a=soup.prettify()\n",
    "a"
   ]
  },
  {
   "cell_type": "code",
   "execution_count": 9,
   "metadata": {},
   "outputs": [
    {
     "data": {
      "text/plain": [
       "'Test - A Sample Website'"
      ]
     },
     "execution_count": 9,
     "metadata": {},
     "output_type": "execute_result"
    }
   ],
   "source": [
    "match=soup.title.text\n",
    "match"
   ]
  },
  {
   "cell_type": "code",
   "execution_count": 11,
   "metadata": {},
   "outputs": [
    {
     "data": {
      "text/plain": [
       "<div class=\"article\">\n",
       "<h2><a href=\"article_1.html\">Article 1 Headline</a></h2>\n",
       "<p>This is a summary of article 1</p>\n",
       "</div>"
      ]
     },
     "execution_count": 11,
     "metadata": {},
     "output_type": "execute_result"
    }
   ],
   "source": [
    "match=soup.div\n",
    "match"
   ]
  },
  {
   "cell_type": "code",
   "execution_count": 10,
   "metadata": {},
   "outputs": [
    {
     "data": {
      "text/plain": [
       "<div class=\"footer\">\n",
       "<p>Footer Information</p>\n",
       "</div>"
      ]
     },
     "execution_count": 10,
     "metadata": {},
     "output_type": "execute_result"
    }
   ],
   "source": [
    "match=soup.find('div',class_='footer')\n",
    "match"
   ]
  },
  {
   "cell_type": "code",
   "execution_count": 12,
   "metadata": {},
   "outputs": [
    {
     "data": {
      "text/plain": [
       "<div class=\"article\">\n",
       "<h2><a href=\"article_1.html\">Article 1 Headline</a></h2>\n",
       "<p>This is a summary of article 1</p>\n",
       "</div>"
      ]
     },
     "execution_count": 12,
     "metadata": {},
     "output_type": "execute_result"
    }
   ],
   "source": [
    "article=soup.find('div',class_='article')\n",
    "article"
   ]
  },
  {
   "cell_type": "code",
   "execution_count": 14,
   "metadata": {},
   "outputs": [
    {
     "data": {
      "text/plain": [
       "'Article 1 Headline'"
      ]
     },
     "execution_count": 14,
     "metadata": {},
     "output_type": "execute_result"
    }
   ],
   "source": [
    "headline=article.hs.a.text\n",
    "headline"
   ]
  },
  {
   "cell_type": "code",
   "execution_count": 16,
   "metadata": {},
   "outputs": [
    {
     "data": {
      "text/plain": [
       "'This is a summary of article 1'"
      ]
     },
     "execution_count": 16,
     "metadata": {},
     "output_type": "execute_result"
    }
   ],
   "source": [
    "summary=article.p.text\n",
    "summary"
   ]
  },
  {
   "cell_type": "code",
   "execution_count": 18,
   "metadata": {},
   "outputs": [
    {
     "name": "stdout",
     "output_type": "stream",
     "text": [
      "Article 1 Headline\n",
      "This is a summary of article 1\n"
     ]
    }
   ],
   "source": [
    "print(headline)\n",
    "print(summary)"
   ]
  },
  {
   "cell_type": "code",
   "execution_count": 19,
   "metadata": {},
   "outputs": [
    {
     "name": "stdout",
     "output_type": "stream",
     "text": [
      "Article 1 Headline\n",
      "This is a summary of article 1\n",
      "\n",
      "Article 2 Headline\n",
      "This is a summary of article 2\n",
      "\n"
     ]
    }
   ],
   "source": [
    "for article in soup.find_all('div',class_='article'):\n",
    "     headline=article.h2.a.text\n",
    "     print(headline)\n",
    "     \n",
    "     summary=article.p.text\n",
    "     print(summary)\n",
    "     \n",
    "     print()\n",
    "    "
   ]
  },
  {
   "cell_type": "code",
   "execution_count": null,
   "metadata": {},
   "outputs": [],
   "source": []
  }
 ],
 "metadata": {
  "kernelspec": {
   "display_name": "venv",
   "language": "python",
   "name": "python3"
  },
  "language_info": {
   "codemirror_mode": {
    "name": "ipython",
    "version": 3
   },
   "file_extension": ".py",
   "mimetype": "text/x-python",
   "name": "python",
   "nbconvert_exporter": "python",
   "pygments_lexer": "ipython3",
   "version": "3.11.8"
  }
 },
 "nbformat": 4,
 "nbformat_minor": 2
}
