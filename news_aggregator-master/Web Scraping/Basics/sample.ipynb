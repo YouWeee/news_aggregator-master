{
 "cells": [
  {
   "cell_type": "code",
   "execution_count": 1,
   "metadata": {},
   "outputs": [],
   "source": [
    "from bs4 import BeautifulSoup\n",
    "import requests"
   ]
  },
  {
   "cell_type": "code",
   "execution_count": 60,
   "metadata": {},
   "outputs": [],
   "source": [
    "source=requests.get('https://crawler-test.com/mobile/separate_desktop').text\n",
    "soup=BeautifulSoup(source,'lxml')\n"
   ]
  },
  {
   "cell_type": "code",
   "execution_count": 61,
   "metadata": {},
   "outputs": [
    {
     "data": {
      "text/plain": [
       "<!DOCTYPE html>\n",
       "<html>\n",
       "<head>\n",
       "<title>Separate desktop, mobile and AMP</title>\n",
       "<meta content=\"en\" http-equiv=\"content-language\"/>\n",
       "<link href=\"/css/app.css\" rel=\"stylesheet\" type=\"text/css\"/>\n",
       "<link href=\"/favicon.ico?r=1.6\" rel=\"icon\" type=\"image/x-icon\"/>\n",
       "<script src=\"/bower_components/jquery/jquery.min.js\" type=\"text/javascript\"></script>\n",
       "<meta content=\"Default description xidDGqrl8Ic5oa9m6Ndp\" name=\"description\"/>\n",
       "<link href=\"https://m.crawler-test.com/mobile/separate_mobile\" media=\"only screen and (max-width: 640px)\" rel=\"alternate\"/><link href=\"https://m.crawler-test.com/mobile/separate_amp\" rel=\"amphtml\"/><link href=\"https://m.crawler-test.com/mobile/separate_amp\" rel=\"amphtml\"/><link href=\"https://crawler-test.com/mobile/separate_desktop\" rel=\"canonical\"/><meta content=\"width=device-width, initial-scale=1.0\" name=\"viewport\"/>\n",
       "</head>\n",
       "<body>\n",
       "<div id=\"header_bg\">\n",
       "<div class=\"row\">\n",
       "<div class=\"large-12 column\">\n",
       "<div id=\"header\">\n",
       "<a href=\"/\" id=\"logo\">Crawler Test <span class=\"neon-effect\">two point oh!</span></a>\n",
       "<div style=\"position:absolute;right:520px;top:-4px;\"></div>\n",
       "</div>\n",
       "</div>\n",
       "</div>\n",
       "</div>\n",
       "<div class=\"row\">\n",
       "<div class=\"large-12 columns\">\n",
       "<h1>Consistent H1 Header Group B</h1>\n",
       "<p>Sed ut perspiciatis unde omnis iste natus error sit voluptatem accusantium doloremque laudantium, totam rem aperiam, eaque ipsa quae ab illo inventore veritatis et quasi architecto beatae vitae dicta sunt explicabo.</p><br/>\n",
       "xidDGqrl8Ic5oa9m6Ndp\n",
       "      </div>\n",
       "</div>\n",
       "<div class=\"row\">\n",
       "<hr/>\n",
       "<div class=\"large-12 column\">\n",
       "<div id=\"footer\"></div>\n",
       "</div>\n",
       "</div>\n",
       "</body>\n",
       "<!-- Google Tag Manager -->\n",
       "<noscript><iframe height=\"0\" src=\"//www.googletagmanager.com/ns.html?id=GTM-MCVXV6\" style=\"display:none;visibility:hidden\" width=\"0\"></iframe></noscript>\n",
       "<script>(function(w,d,s,l,i){w[l]=w[l]||[];w[l].push({'gtm.start':\n",
       "  new Date().getTime(),event:'gtm.js'});var f=d.getElementsByTagName(s)[0],\n",
       "  j=d.createElement(s),dl=l!='dataLayer'?'&l='+l:'';j.async=true;j.src=\n",
       "  '//www.googletagmanager.com/gtm.js?id='+i+dl;f.parentNode.insertBefore(j,f);\n",
       "  })(window,document,'script','dataLayer','GTM-MCVXV6');</script>\n",
       "<!-- End Google Tag Manager -->\n",
       "</html>"
      ]
     },
     "execution_count": 61,
     "metadata": {},
     "output_type": "execute_result"
    }
   ],
   "source": [
    "soup"
   ]
  },
  {
   "cell_type": "code",
   "execution_count": 78,
   "metadata": {},
   "outputs": [],
   "source": [
    "page=soup.find(class_='large-12 columns')"
   ]
  },
  {
   "cell_type": "code",
   "execution_count": 79,
   "metadata": {},
   "outputs": [
    {
     "name": "stdout",
     "output_type": "stream",
     "text": [
      "<div class=\"large-12 columns\">\n",
      "<h1>Consistent H1 Header Group B</h1>\n",
      "<p>Sed ut perspiciatis unde omnis iste natus error sit voluptatem accusantium doloremque laudantium, totam rem aperiam, eaque ipsa quae ab illo inventore veritatis et quasi architecto beatae vitae dicta sunt explicabo.</p><br/>\n",
      "xidDGqrl8Ic5oa9m6Ndp\n",
      "      </div>\n"
     ]
    }
   ],
   "source": [
    "print(page)"
   ]
  },
  {
   "cell_type": "code",
   "execution_count": 80,
   "metadata": {},
   "outputs": [],
   "source": [
    "title=page.h1.text"
   ]
  },
  {
   "cell_type": "code",
   "execution_count": 81,
   "metadata": {},
   "outputs": [
    {
     "data": {
      "text/plain": [
       "'Consistent H1 Header Group B'"
      ]
     },
     "execution_count": 81,
     "metadata": {},
     "output_type": "execute_result"
    }
   ],
   "source": [
    "title"
   ]
  },
  {
   "cell_type": "code",
   "execution_count": 83,
   "metadata": {},
   "outputs": [],
   "source": [
    "des=page.p.text"
   ]
  },
  {
   "cell_type": "code",
   "execution_count": 84,
   "metadata": {},
   "outputs": [
    {
     "data": {
      "text/plain": [
       "'Sed ut perspiciatis unde omnis iste natus error sit voluptatem accusantium doloremque laudantium, totam rem aperiam, eaque ipsa quae ab illo inventore veritatis et quasi architecto beatae vitae dicta sunt explicabo.'"
      ]
     },
     "execution_count": 84,
     "metadata": {},
     "output_type": "execute_result"
    }
   ],
   "source": [
    "des"
   ]
  },
  {
   "cell_type": "code",
   "execution_count": 85,
   "metadata": {},
   "outputs": [],
   "source": [
    "heading=soup.find(class_='row')"
   ]
  },
  {
   "cell_type": "code",
   "execution_count": 86,
   "metadata": {},
   "outputs": [
    {
     "data": {
      "text/plain": [
       "<div class=\"row\">\n",
       "<div class=\"large-12 column\">\n",
       "<div id=\"header\">\n",
       "<a href=\"/\" id=\"logo\">Crawler Test <span class=\"neon-effect\">two point oh!</span></a>\n",
       "<div style=\"position:absolute;right:520px;top:-4px;\"></div>\n",
       "</div>\n",
       "</div>\n",
       "</div>"
      ]
     },
     "execution_count": 86,
     "metadata": {},
     "output_type": "execute_result"
    }
   ],
   "source": [
    "heading"
   ]
  },
  {
   "cell_type": "code",
   "execution_count": 89,
   "metadata": {},
   "outputs": [
    {
     "data": {
      "text/plain": [
       "'Crawler Test two point oh!'"
      ]
     },
     "execution_count": 89,
     "metadata": {},
     "output_type": "execute_result"
    }
   ],
   "source": [
    "heading.a.text"
   ]
  },
  {
   "cell_type": "code",
   "execution_count": null,
   "metadata": {},
   "outputs": [],
   "source": []
  }
 ],
 "metadata": {
  "kernelspec": {
   "display_name": "venv",
   "language": "python",
   "name": "python3"
  },
  "language_info": {
   "codemirror_mode": {
    "name": "ipython",
    "version": 3
   },
   "file_extension": ".py",
   "mimetype": "text/x-python",
   "name": "python",
   "nbconvert_exporter": "python",
   "pygments_lexer": "ipython3",
   "version": "3.11.8"
  }
 },
 "nbformat": 4,
 "nbformat_minor": 2
}
