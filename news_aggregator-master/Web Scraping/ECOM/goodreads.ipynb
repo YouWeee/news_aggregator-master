{
 "cells": [
  {
   "cell_type": "code",
   "execution_count": 24,
   "metadata": {},
   "outputs": [],
   "source": [
    "import requests\n",
    "import pandas as pd \n",
    "from bs4 import BeautifulSoup\n",
    "from joblib import Parallel, delayed\n",
    "from rake_nltk import Rake"
   ]
  },
  {
   "cell_type": "code",
   "execution_count": 25,
   "metadata": {},
   "outputs": [],
   "source": [
    "base_url='https://www.goodreads.com'"
   ]
  },
  {
   "cell_type": "code",
   "execution_count": 26,
   "metadata": {},
   "outputs": [],
   "source": [
    "r = requests.get('https://www.goodreads.com/list/show/3810.Best_Cozy_Mystery_Series?page=1')\n",
    "soup = BeautifulSoup(r.text, 'html.parser')"
   ]
  },
  {
   "cell_type": "code",
   "execution_count": 27,
   "metadata": {},
   "outputs": [
    {
     "name": "stdout",
     "output_type": "stream",
     "text": [
      "/book/show/16331.Murder_at_the_Vicarage\n"
     ]
    }
   ],
   "source": [
    "link = soup.find('a', class_='bookTitle')\n",
    "href = link['href']\n",
    "print(href)"
   ]
  },
  {
   "cell_type": "code",
   "execution_count": 28,
   "metadata": {},
   "outputs": [],
   "source": [
    "\n",
    "product_links = set()\n",
    "\n",
    "for x in range(0,2):  \n",
    "    r = requests.get(f'https://www.goodreads.com/list/show/3810.Best_Cozy_Mystery_Series?page={x}')\n",
    "    soup = BeautifulSoup(r.text, 'html.parser')\n",
    "    \n",
    "    product_list = soup.find_all('a', class_='bookTitle', href=True)\n",
    "    \n",
    "    for link in product_list:\n",
    "        product_links.add(base_url + link['href'])\n",
    "\n",
    "product_links = list(product_links)\n"
   ]
  },
  {
   "cell_type": "code",
   "execution_count": 29,
   "metadata": {},
   "outputs": [
    {
     "data": {
      "text/plain": [
       "['https://www.goodreads.com/book/show/16361.The_Secret_of_Chimneys',\n",
       " 'https://www.goodreads.com/book/show/352427.Mum_s_the_Word',\n",
       " 'https://www.goodreads.com/book/show/1176884.Body_Movers',\n",
       " 'https://www.goodreads.com/book/show/140096.The_Julius_House',\n",
       " 'https://www.goodreads.com/book/show/7039.Tears_of_the_Giraffe',\n",
       " 'https://www.goodreads.com/book/show/338691.Still_Life',\n",
       " 'https://www.goodreads.com/book/show/363613.Pick_Your_Poison',\n",
       " 'https://www.goodreads.com/book/show/140090.Three_Bedrooms_One_Corpse',\n",
       " 'https://www.goodreads.com/book/show/586437.The_Tale_of_Hill_Top_Farm',\n",
       " 'https://www.goodreads.com/book/show/45020.Shakespeare_s_Landlord',\n",
       " 'https://www.goodreads.com/book/show/33442.Sugar_Cookie_Murder',\n",
       " 'https://www.goodreads.com/book/show/638247.Death_at_Wentwater_Court',\n",
       " 'https://www.goodreads.com/book/show/2685034-one-bad-apple',\n",
       " 'https://www.goodreads.com/book/show/6077869-homicide-in-hardcover',\n",
       " 'https://www.goodreads.com/book/show/518518.The_Chocolate_Cat_Caper',\n",
       " 'https://www.goodreads.com/book/show/16299.And_Then_There_Were_None',\n",
       " 'https://www.goodreads.com/book/show/6372680-aunt-dimity-s-death',\n",
       " 'https://www.goodreads.com/book/show/102303.Why_Didn_t_They_Ask_Evans_',\n",
       " 'https://www.goodreads.com/book/show/2001935.Carrot_Cake_Murder',\n",
       " 'https://www.goodreads.com/book/show/383514.Her_Royal_Spyness',\n",
       " 'https://www.goodreads.com/book/show/6633516-sprinkle-with-murder',\n",
       " 'https://www.goodreads.com/book/show/22522007-tracing-the-contours',\n",
       " 'https://www.goodreads.com/book/show/58077.Grave_Sight',\n",
       " 'https://www.goodreads.com/book/show/33445.Blueberry_Muffin_Murder',\n",
       " 'https://www.goodreads.com/book/show/686718.Murder_on_Astor_Place',\n",
       " 'https://www.goodreads.com/book/show/8857.Death_of_a_Gossip',\n",
       " 'https://www.goodreads.com/book/show/140087.Poppy_Done_to_Death',\n",
       " 'https://www.goodreads.com/book/show/9745415-books-can-be-deceiving',\n",
       " 'https://www.goodreads.com/book/show/512385.The_Trouble_With_Magic',\n",
       " 'https://www.goodreads.com/book/show/16328.The_Murder_of_Roger_Ackroyd',\n",
       " 'https://www.goodreads.com/book/show/140524.The_Unexpected_Mrs_Pollifax',\n",
       " 'https://www.goodreads.com/book/show/17185170-back-on-the-market',\n",
       " 'https://www.goodreads.com/book/show/508572.Miss_Zukas_and_the_Library_Murders',\n",
       " 'https://www.goodreads.com/book/show/3663410-the-diva-runs-out-of-thyme',\n",
       " 'https://www.goodreads.com/book/show/207687.Big_Boned',\n",
       " 'https://www.goodreads.com/book/show/8173806-this-pen-for-hire',\n",
       " 'https://www.goodreads.com/book/show/33436.Key_Lime_Pie_Murder',\n",
       " 'https://www.goodreads.com/book/show/136862.Fudge_Cupcake_Murder',\n",
       " 'https://www.goodreads.com/book/show/52843028-the-mysterious-affair-at-styles',\n",
       " 'https://www.goodreads.com/book/show/3384459-eggs-in-purgatory',\n",
       " 'https://www.goodreads.com/book/show/165341.Murder_at_Monticello',\n",
       " 'https://www.goodreads.com/book/show/6463372-i-scream-you-scream',\n",
       " 'https://www.goodreads.com/book/show/574955.Abby_Cooper_Psychic_Eye',\n",
       " 'https://www.goodreads.com/book/show/90187.Knit_One_Kill_Two',\n",
       " 'https://www.goodreads.com/book/show/213472.Death_of_a_Cad',\n",
       " 'https://www.goodreads.com/book/show/960.Angels_Demons',\n",
       " 'https://www.goodreads.com/book/show/853510.Murder_on_the_Orient_Express',\n",
       " 'https://www.goodreads.com/book/show/16325.Partners_in_Crime',\n",
       " 'https://www.goodreads.com/book/show/1284050.Demons_are_a_Ghoul_s_Best_Friend',\n",
       " 'https://www.goodreads.com/book/show/33438.Peach_Cobbler_Murder',\n",
       " 'https://www.goodreads.com/book/show/140097.An_Ice_Cold_Grave',\n",
       " 'https://www.goodreads.com/book/show/6957009-apple-turnover-murder',\n",
       " 'https://www.goodreads.com/book/show/6443402-bookplate-special',\n",
       " 'https://www.goodreads.com/book/show/171349.Murder_on_a_Girls_Night_Out',\n",
       " 'https://www.goodreads.com/book/show/140093.A_Bone_to_Pick',\n",
       " 'https://www.goodreads.com/book/show/3649472-fatal-fixer-upper',\n",
       " 'https://www.goodreads.com/book/show/16331.Murder_at_the_Vicarage',\n",
       " 'https://www.goodreads.com/book/show/6238524-the-cat-the-quilt-and-the-corpse',\n",
       " 'https://www.goodreads.com/book/show/269746.Catering_to_Nobody',\n",
       " 'https://www.goodreads.com/book/show/498594.Death_by_Darjeeling',\n",
       " 'https://www.goodreads.com/book/show/129537.What_s_a_Ghoul_to_Do_',\n",
       " 'https://www.goodreads.com/book/show/140091.Real_Murders',\n",
       " 'https://www.goodreads.com/book/show/761668.Thyme_of_Death',\n",
       " 'https://www.goodreads.com/book/show/347697.The_Cat_Who_Blew_the_Whistle',\n",
       " 'https://www.goodreads.com/book/show/32516.Shakespeare_s_Trollop',\n",
       " 'https://www.goodreads.com/book/show/8145181-truly-madly',\n",
       " 'https://www.goodreads.com/book/show/36347162-chocolate-chip-cookie-murder',\n",
       " 'https://www.goodreads.com/book/show/41022009-cocaine-blues',\n",
       " 'https://www.goodreads.com/book/show/6344832-grave-secret',\n",
       " 'https://www.goodreads.com/book/show/7023554-sizzling-sixteen',\n",
       " 'https://www.goodreads.com/book/show/545766.Murder_with_Peacocks',\n",
       " 'https://www.goodreads.com/book/show/23217.Size_14_Is_Not_Fat_Either',\n",
       " 'https://www.goodreads.com/book/show/156510.The_Ghost_and_Mrs_McClure',\n",
       " 'https://www.goodreads.com/book/show/181667.The_Vicious_Vet',\n",
       " 'https://www.goodreads.com/book/show/33440.Lemon_Meringue_Pie_Murder',\n",
       " 'https://www.goodreads.com/book/show/6456016-secondhand-spirits',\n",
       " 'https://www.goodreads.com/book/show/853520.Death_on_Demand',\n",
       " 'https://www.goodreads.com/book/show/508903.The_Cat_Who_Could_Read_Backwards',\n",
       " 'https://www.goodreads.com/book/show/7061.The_No_1_Ladies_Detective_Agency',\n",
       " 'https://www.goodreads.com/book/show/6218281-the-sweetness-at-the-bottom-of-the-pie',\n",
       " 'https://www.goodreads.com/book/show/7689099-a-killer-plot',\n",
       " 'https://www.goodreads.com/book/show/303639.On_What_Grounds',\n",
       " 'https://www.goodreads.com/book/show/3712764-bookmarked-for-death',\n",
       " 'https://www.goodreads.com/book/show/40881649-crocodile-on-the-sandbank',\n",
       " 'https://www.goodreads.com/book/show/6853.One_for_the_Money',\n",
       " 'https://www.goodreads.com/book/show/21899683-a-dead-sister',\n",
       " 'https://www.goodreads.com/book/show/2586724-murder-is-binding',\n",
       " 'https://www.goodreads.com/book/show/6048530-finger-lickin-fifteen',\n",
       " 'https://www.goodreads.com/book/show/813740.How_to_Murder_a_Millionaire',\n",
       " 'https://www.goodreads.com/book/show/8205669-wicked-appetite',\n",
       " 'https://www.goodreads.com/book/show/301082.Dead_Until_Dark',\n",
       " 'https://www.goodreads.com/book/show/33439.Strawberry_Shortcake_Murder',\n",
       " 'https://www.goodreads.com/book/show/129117.The_Spellman_Files',\n",
       " 'https://www.goodreads.com/book/show/6367212-plum-pudding-murder',\n",
       " 'https://www.goodreads.com/book/show/462033.Maisie_Dobbs',\n",
       " 'https://www.goodreads.com/book/show/6419.Plum_Lovin_',\n",
       " 'https://www.goodreads.com/book/show/23220.Size_12_Is_Not_Fat',\n",
       " 'https://www.goodreads.com/book/show/149355.The_Amazing_Mrs_Pollifax',\n",
       " 'https://www.goodreads.com/book/show/139176.The_Quiche_of_Death',\n",
       " 'https://www.goodreads.com/book/show/367063.Crewel_World']"
      ]
     },
     "execution_count": 29,
     "metadata": {},
     "output_type": "execute_result"
    }
   ],
   "source": [
    "product_links"
   ]
  },
  {
   "cell_type": "code",
   "execution_count": 30,
   "metadata": {},
   "outputs": [],
   "source": [
    "test_link=\"https://www.goodreads.com/book/show/16331.Murder_at_the_Vicarage\""
   ]
  },
  {
   "cell_type": "code",
   "execution_count": 31,
   "metadata": {},
   "outputs": [],
   "source": [
    "r=requests.get(test_link)\n",
    "soup=BeautifulSoup(r.text,'lxml')"
   ]
  },
  {
   "cell_type": "code",
   "execution_count": 32,
   "metadata": {},
   "outputs": [
    {
     "data": {
      "text/plain": [
       "'Murder at the Vicarage'"
      ]
     },
     "execution_count": 32,
     "metadata": {},
     "output_type": "execute_result"
    }
   ],
   "source": [
    "soup.find('h1').text"
   ]
  },
  {
   "cell_type": "code",
   "execution_count": 33,
   "metadata": {},
   "outputs": [
    {
     "data": {
      "text/plain": [
       "'Murder at the Vicarage'"
      ]
     },
     "execution_count": 33,
     "metadata": {},
     "output_type": "execute_result"
    }
   ],
   "source": [
    "Name=soup.find('h1').text\n",
    "Name"
   ]
  },
  {
   "cell_type": "code",
   "execution_count": 34,
   "metadata": {},
   "outputs": [
    {
     "data": {
      "text/plain": [
       "'Agatha Christie'"
      ]
     },
     "execution_count": 34,
     "metadata": {},
     "output_type": "execute_result"
    }
   ],
   "source": [
    "Contributor_Name= soup.find('span', class_='ContributorLink__name').text\n",
    "Contributor_Name"
   ]
  },
  {
   "cell_type": "code",
   "execution_count": 35,
   "metadata": {},
   "outputs": [
    {
     "name": "stdout",
     "output_type": "stream",
     "text": [
      "4.05\n"
     ]
    }
   ],
   "source": [
    "rating_text = soup.find('span', class_='RatingStars RatingStars__medium')['aria-label']\n",
    "rating = float(rating_text.split()[1])\n",
    "print(rating)"
   ]
  },
  {
   "cell_type": "code",
   "execution_count": 36,
   "metadata": {},
   "outputs": [
    {
     "data": {
      "text/plain": [
       "187919"
      ]
     },
     "execution_count": 36,
     "metadata": {},
     "output_type": "execute_result"
    }
   ],
   "source": [
    "rating_count_text = soup.find('span', {'data-testid': 'ratingsCount'}).text\n",
    "rating_count = int(rating_count_text.replace(',', '').split()[0])\n",
    "rating_count"
   ]
  },
  {
   "cell_type": "code",
   "execution_count": 37,
   "metadata": {},
   "outputs": [
    {
     "data": {
      "text/plain": [
       "7364"
      ]
     },
     "execution_count": 37,
     "metadata": {},
     "output_type": "execute_result"
    }
   ],
   "source": [
    "reviews_count_text = soup.find('span', class_='u-dot-before').text\n",
    "reviews_count = int(reviews_count_text.replace(',', '').split()[0])\n",
    "reviews_count"
   ]
  },
  {
   "cell_type": "code",
   "execution_count": 38,
   "metadata": {},
   "outputs": [
    {
     "data": {
      "text/plain": [
       "'288 pages, Hardcover'"
      ]
     },
     "execution_count": 38,
     "metadata": {},
     "output_type": "execute_result"
    }
   ],
   "source": [
    "Format=soup.find('p').text\n",
    "Format"
   ]
  },
  {
   "cell_type": "code",
   "execution_count": 39,
   "metadata": {},
   "outputs": [
    {
     "name": "stdout",
     "output_type": "stream",
     "text": [
      "{'Name': 'The Secret of Chimneys', 'Author': 'Agatha Christie', 'rating': 3.85, 'rating_count': 27387, 'reviews_count': 2152, 'Format': '400 pages, Paperback'}\n",
      "{'Name': \"Mum's the Word\", 'Author': 'Kate Collins', 'rating': 3.75, 'rating_count': 5809, 'reviews_count': 453, 'Format': '304 pages, Mass Market Paperback'}\n",
      "{'Name': 'Body Movers', 'Author': 'Stephanie Bond', 'rating': 3.87, 'rating_count': 14255, 'reviews_count': 728, 'Format': '384 pages, Mass Market Paperback'}\n",
      "{'Name': 'The Julius House', 'Author': 'Charlaine Harris', 'rating': 3.85, 'rating_count': 19010, 'reviews_count': 823, 'Format': '256 pages, Mass Market Paperback'}\n",
      "{'Name': 'Tears of the Giraffe', 'Author': 'Alexander McCall Smith', 'rating': 3.98, 'rating_count': 56720, 'reviews_count': 3363, 'Format': '233 pages, Paperback'}\n",
      "{'Name': 'Still Life', 'Author': 'Louise Penny', 'rating': 3.9, 'rating_count': 247136, 'reviews_count': 19885, 'Format': '293 pages, Mass Market Paperback'}\n",
      "Error occurred while scraping 'rating' in link: https://www.goodreads.com/book/show/363613.Pick_Your_Poison\n",
      "Error occurred while scraping 'rating_count' in link: https://www.goodreads.com/book/show/363613.Pick_Your_Poison\n",
      "Error occurred while scraping 'reviews_count' in link: https://www.goodreads.com/book/show/363613.Pick_Your_Poison\n",
      "{'Name': None, 'Author': None, 'rating': None, 'rating_count': None, 'reviews_count': None, 'Format': 'Yes we’ll walk with a walk that is measured and slow,And we’ll go where the chalk-white arrows go,For the children, they mark, and the children, they knowThe place where the sidewalk ends.\\n\\n       — Shel Silverstein, Where the Sidewalk Ends'}\n",
      "{'Name': 'Three Bedrooms, One Corpse', 'Author': 'Charlaine Harris', 'rating': 3.81, 'rating_count': 20607, 'reviews_count': 967, 'Format': '256 pages, Mass Market Paperback'}\n",
      "{'Name': 'The Tale of Hill Top Farm', 'Author': 'Susan Wittig Albert', 'rating': 3.91, 'rating_count': 4019, 'reviews_count': 537, 'Format': '286 pages, Hardcover'}\n",
      "{'Name': \"Shakespeare's Landlord\", 'Author': 'Charlaine Harris', 'rating': 3.77, 'rating_count': 27456, 'reviews_count': 1534, 'Format': '216 pages, Mass Market Paperback'}\n",
      "{'Name': 'Sugar Cookie Murder', 'Author': 'Joanne Fluke', 'rating': 3.73, 'rating_count': 18828, 'reviews_count': 1235, 'Format': '380 pages, Paperback'}\n",
      "{'Name': 'Death at Wentwater Court', 'Author': 'Carola Dunn', 'rating': 3.7, 'rating_count': 11147, 'reviews_count': 1082, 'Format': '252 pages, Mass Market Paperback'}\n",
      "{'Name': 'One Bad Apple', 'Author': 'Sheila Connolly', 'rating': 3.81, 'rating_count': 4177, 'reviews_count': 330, 'Format': '262 pages, Mass Market Paperback'}\n",
      "{'Name': 'Homicide in Hardcover', 'Author': 'Kate Carlisle', 'rating': 3.8, 'rating_count': 10525, 'reviews_count': 1183, 'Format': '289 pages, Mass Market Paperback'}\n",
      "{'Name': 'The Chocolate Cat Caper', 'Author': 'JoAnna Carl', 'rating': 3.73, 'rating_count': 4211, 'reviews_count': 322, 'Format': 'Clementine Ripley, the defense attorney everyone loves to hate, is throwing a party that calls for several thousand dollars worth of custom chocolates -- some made in the image of her champion cat. Lee jumps at the job, but sweet success takes a bitter turn when someone adds an extra ingredient -- cyanide -- to one of their delicious chocolates and it finds its way into Ms. Ripley’s mouth. Now it’s up to Lee to figure out who tampered with Aunt Nettie’s recipe before they find themselves behind not-so-chocolate bars.'}\n",
      "{'Name': 'And Then There Were None', 'Author': 'Agatha Christie', 'rating': 4.28, 'rating_count': 1344283, 'reviews_count': 63734, 'Format': '264 pages, Paperback'}\n",
      "{'Name': \"Aunt Dimity's Death\", 'Author': 'Nancy Atherton', 'rating': 3.96, 'rating_count': 13803, 'reviews_count': 1440, 'Format': '244 pages, Mass Market Paperback'}\n",
      "{'Name': \"Why Didn't They Ask Evans?\", 'Author': 'Agatha Christie', 'rating': 3.9, 'rating_count': 34041, 'reviews_count': 2601, 'Format': '288 pages, Mass Market Paperback'}\n",
      "{'Name': 'Carrot Cake Murder', 'Author': 'Joanne Fluke', 'rating': 3.84, 'rating_count': 15086, 'reviews_count': 831, 'Format': '324 pages, Hardcover'}\n",
      "{'Name': 'Her Royal Spyness', 'Author': 'Rhys Bowen', 'rating': 3.81, 'rating_count': 37368, 'reviews_count': 3682, 'Format': '324 pages, Paperback'}\n",
      "{'Name': 'Sprinkle with Murder', 'Author': 'Jenn McKinlay', 'rating': 3.87, 'rating_count': 10360, 'reviews_count': 1076, 'Format': '222 pages, Mass Market Paperback'}\n",
      "{'Name': 'Tracing the Contours', 'Author': 'Honor Amelia Dawson', 'rating': 4.56, 'rating_count': 88, 'reviews_count': 6, 'Format': 'Kindle Edition'}\n",
      "{'Name': 'Grave Sight', 'Author': 'Charlaine Harris', 'rating': 3.87, 'rating_count': 64606, 'reviews_count': 2736, 'Format': '293 pages, Mass Market Paperback'}\n",
      "{'Name': 'Blueberry Muffin Murder', 'Author': 'Joanne Fluke', 'rating': 3.89, 'rating_count': 24107, 'reviews_count': 1358, 'Format': '310 pages, Paperback'}\n",
      "{'Name': 'Murder on Astor Place', 'Author': 'Victoria Thompson', 'rating': 3.9, 'rating_count': 13952, 'reviews_count': 1396, 'Format': '278 pages, Mass Market Paperback'}\n",
      "{'Name': 'Death of a Gossip', 'Author': 'M.C. Beaton', 'rating': 3.66, 'rating_count': 18330, 'reviews_count': 1561, 'Format': '179 pages, Paperback'}\n",
      "{'Name': 'Poppy Done to Death', 'Author': 'Charlaine Harris', 'rating': 3.88, 'rating_count': 15398, 'reviews_count': 655, 'Format': '256 pages, Mass Market Paperback'}\n",
      "{'Name': 'Books Can Be Deceiving', 'Author': 'Jenn McKinlay', 'rating': 3.84, 'rating_count': 10955, 'reviews_count': 1430, 'Format': '282 pages, Mass Market Paperback'}\n",
      "{'Name': 'The Trouble With Magic', 'Author': 'Madelyn Alt', 'rating': 3.69, 'rating_count': 7278, 'reviews_count': 554, 'Format': \"Antiques-shop clerk Maggie O'Neill was a little weirded out when she discovered her new boss Felicity was a witch. But when Felicity becomes the suspect in a local murder, Maggie must enlist Felicity's wiccan friends for help--and discover her own spellbinding talent.\"}\n",
      "{'Name': 'The Murder of Roger Ackroyd', 'Author': 'Agatha Christie', 'rating': 4.27, 'rating_count': 271247, 'reviews_count': 22145, 'Format': '288 pages, Hardcover'}\n",
      "{'Name': 'The Unexpected Mrs. Pollifax', 'Author': 'Dorothy Gilman', 'rating': 4.16, 'rating_count': 27264, 'reviews_count': 2630, 'Format': '204 pages, Paperback'}\n",
      "{'Name': 'Back on the Market', 'Author': 'L.A. Frazier', 'rating': 4.3, 'rating_count': 151, 'reviews_count': 34, 'Format': '274 pages, Paperback'}\n",
      "{'Name': 'Miss Zukas and the Library Murders', 'Author': 'Jo Dereske', 'rating': 3.74, 'rating_count': 1497, 'reviews_count': 143, 'Format': '218 pages, Mass Market Paperback'}\n",
      "{'Name': 'The Diva Runs Out of Thyme', 'Author': 'Krista Davis', 'rating': 3.95, 'rating_count': 6925, 'reviews_count': 739, 'Format': '292 pages, Mass Market Paperback'}\n",
      "{'Name': 'Big Boned', 'Author': 'Meg Cabot', 'rating': 3.84, 'rating_count': 23153, 'reviews_count': 1250, 'Format': '280 pages, Paperback'}\n",
      "Error occurred while scraping 'rating' in link: https://www.goodreads.com/book/show/8173806-this-pen-for-hire\n",
      "Error occurred while scraping 'rating_count' in link: https://www.goodreads.com/book/show/8173806-this-pen-for-hire\n",
      "Error occurred while scraping 'reviews_count' in link: https://www.goodreads.com/book/show/8173806-this-pen-for-hire\n",
      "{'Name': 'Sorry, we couldn’t find the page you were looking for.', 'Author': None, 'rating': None, 'rating_count': None, 'reviews_count': None, 'Format': '© 2024 Goodreads, Inc.'}\n",
      "{'Name': 'Key Lime Pie Murder', 'Author': 'Joanne Fluke', 'rating': 3.84, 'rating_count': 16184, 'reviews_count': 903, 'Format': '342 pages, Hardcover'}\n",
      "{'Name': 'Fudge Cupcake Murder', 'Author': 'Joanne Fluke', 'rating': 3.91, 'rating_count': 21146, 'reviews_count': 1025, 'Format': '313 pages, Paperback'}\n",
      "{'Name': 'The Mysterious Affair at Styles', 'Author': 'Agatha Christie', 'rating': 4.0, 'rating_count': 419790, 'reviews_count': 16118, 'Format': '174 pages, Paperback'}\n",
      "{'Name': 'Eggs in Purgatory', 'Author': 'Laura Childs', 'rating': 3.76, 'rating_count': 3596, 'reviews_count': 317, 'Format': '289 pages, Mass Market Paperback'}\n",
      "{'Name': 'Murder at Monticello', 'Author': 'Rita Mae Brown', 'rating': 3.87, 'rating_count': 4890, 'reviews_count': 223, 'Format': '284 pages, Mass Market Paperback'}\n",
      "{'Name': 'I Scream, You Scream', 'Author': 'Wendy Lyn Watson', 'rating': 3.74, 'rating_count': 1904, 'reviews_count': 197, 'Format': '320 pages, Mass Market Paperback'}\n",
      "{'Name': 'Abby Cooper, Psychic Eye', 'Author': 'Victoria Laurie', 'rating': 3.94, 'rating_count': 14333, 'reviews_count': 1059, 'Format': '295 pages, Mass Market Paperback'}\n",
      "{'Name': 'Knit One, Kill Two', 'Author': 'Maggie Sefton', 'rating': 3.57, 'rating_count': 7736, 'reviews_count': 915, 'Format': '273 pages, Mass Market Paperback'}\n",
      "{'Name': 'Death of a Cad', 'Author': 'M.C. Beaton', 'rating': 3.82, 'rating_count': 11681, 'reviews_count': 771, 'Format': '214 pages, Mass Market Paperback'}\n",
      "{'Name': 'Angels & Demons', 'Author': 'Dan       Brown', 'rating': 3.94, 'rating_count': 3185366, 'reviews_count': 33803, 'Format': '736 pages, Mass Market Paperback'}\n",
      "{'Name': 'Murder on the Orient Express', 'Author': 'Agatha Christie', 'rating': 4.2, 'rating_count': 617066, 'reviews_count': 39987, 'Format': '274 pages, Paperback'}\n",
      "{'Name': 'Partners in Crime', 'Author': 'Agatha Christie', 'rating': 3.77, 'rating_count': 20937, 'reviews_count': 1692, 'Format': '347 pages, Paperback'}\n",
      "{'Name': \"Demons are a Ghoul's Best Friend\", 'Author': 'Victoria Laurie', 'rating': 4.06, 'rating_count': 6489, 'reviews_count': 326, 'Format': '282 pages, Mass Market Paperback'}\n",
      "{'Name': 'Peach Cobbler Murder', 'Author': 'Joanne Fluke', 'rating': 3.92, 'rating_count': 17900, 'reviews_count': 943, 'Format': '360 pages, Mass Market Paperback'}\n",
      "{'Name': 'An Ice Cold Grave', 'Author': 'Charlaine Harris', 'rating': 3.96, 'rating_count': 36013, 'reviews_count': 1570, 'Format': '280 pages, Hardcover'}\n",
      "{'Name': 'Apple Turnover Murder', 'Author': 'Joanne Fluke', 'rating': 3.78, 'rating_count': 13335, 'reviews_count': 935, 'Format': '304 pages, Hardcover'}\n",
      "{'Name': 'Bookplate Special', 'Author': 'Lorna Barrett', 'rating': 3.79, 'rating_count': 5888, 'reviews_count': 476, 'Format': '301 pages, Mass Market Paperback'}\n",
      "{'Name': \"Murder on a Girls' Night Out\", 'Author': 'Anne George', 'rating': 4.04, 'rating_count': 7007, 'reviews_count': 581, 'Format': '244 pages, Mass Market Paperback'}\n",
      "{'Name': 'A Bone to Pick', 'Author': 'Charlaine Harris', 'rating': 3.75, 'rating_count': 24127, 'reviews_count': 1288, 'Format': '168 pages, Hardcover'}\n",
      "{'Name': 'Fatal Fixer-Upper', 'Author': 'Jennie Bentley', 'rating': 3.95, 'rating_count': 3552, 'reviews_count': 275, 'Format': '332 pages, Mass Market Paperback'}\n",
      "{'Name': 'Murder at the Vicarage', 'Author': 'Agatha Christie', 'rating': 4.05, 'rating_count': 187920, 'reviews_count': 7364, 'Format': '288 pages, Hardcover'}\n",
      "{'Name': 'The Cat, the Quilt and the Corpse', 'Author': 'Leann Sweeney', 'rating': 3.95, 'rating_count': 3270, 'reviews_count': 380, 'Format': '278 pages, Mass Market Paperback'}\n",
      "{'Name': 'Catering to Nobody', 'Author': 'Diane Mott Davidson', 'rating': 3.83, 'rating_count': 21537, 'reviews_count': 1055, 'Format': '301 pages, Mass Market Paperback'}\n",
      "{'Name': 'Death by Darjeeling', 'Author': 'Laura Childs', 'rating': 3.73, 'rating_count': 11439, 'reviews_count': 1033, 'Format': '243 pages, Mass Market Paperback'}\n",
      "{'Name': \"What's a Ghoul to Do?\", 'Author': 'Victoria Laurie', 'rating': 3.88, 'rating_count': 8578, 'reviews_count': 625, 'Format': '281 pages, Mass Market Paperback'}\n",
      "{'Name': 'Real Murders', 'Author': 'Charlaine Harris', 'rating': 3.68, 'rating_count': 34618, 'reviews_count': 2614, 'Format': '175 pages, Hardcover'}\n",
      "{'Name': 'Thyme of Death', 'Author': 'Susan Wittig Albert', 'rating': 3.84, 'rating_count': 8543, 'reviews_count': 488, 'Format': '320 pages, Mass Market Paperback'}\n",
      "{'Name': 'The Cat Who Blew the Whistle', 'Author': 'Lilian Jackson Braun', 'rating': 3.89, 'rating_count': 7273, 'reviews_count': 326, 'Format': '320 pages, Paperback'}\n",
      "{'Name': \"Shakespeare's Trollop\", 'Author': 'Charlaine Harris', 'rating': 3.88, 'rating_count': 15070, 'reviews_count': 523, 'Format': '194 pages, Mass Market Paperback'}\n",
      "{'Name': 'Truly, Madly', 'Author': 'Heather Webber', 'rating': 3.92, 'rating_count': 6998, 'reviews_count': 1152, 'Format': '305 pages, Kindle Edition'}\n",
      "{'Name': 'Chocolate Chip Cookie Murder', 'Author': 'Joanne Fluke', 'rating': 3.69, 'rating_count': 62352, 'reviews_count': 4945, 'Format': '436 pages, Mass Market Paperback'}\n",
      "{'Name': 'Cocaine Blues', 'Author': 'Kerry Greenwood', 'rating': 3.83, 'rating_count': 26471, 'reviews_count': 3137, 'Format': '185 pages, Kindle Edition'}\n",
      "{'Name': 'Grave Secret', 'Author': 'Charlaine Harris', 'rating': 3.97, 'rating_count': 30019, 'reviews_count': 1662, 'Format': 'Lightning-struck sleuth Harper Connelly and her stepbrother Tolliver take a break from looking for the dead to visit the two little girls they both think of as sisters. But, as always happens when they travel to Texas, memories of their horrible childhood resurface...'}\n",
      "{'Name': 'Sizzling Sixteen', 'Author': 'Janet Evanovich', 'rating': 3.97, 'rating_count': 81848, 'reviews_count': 4322, 'Format': '371 pages, Paperback'}\n",
      "{'Name': 'Murder with Peacocks', 'Author': 'Donna Andrews', 'rating': 3.89, 'rating_count': 12034, 'reviews_count': 1328, 'Format': '311 pages, Mass Market Paperback'}\n",
      "{'Name': 'Size 14 Is Not Fat Either', 'Author': 'Meg Cabot', 'rating': 3.84, 'rating_count': 31196, 'reviews_count': 1227, 'Format': '344 pages, Paperback'}\n",
      "{'Name': 'The Ghost and Mrs. McClure', 'Author': 'Alice Kimberly', 'rating': 3.79, 'rating_count': 6758, 'reviews_count': 641, 'Format': '261 pages, Paperback'}\n",
      "{'Name': 'The Vicious Vet', 'Author': 'M.C. Beaton', 'rating': 3.73, 'rating_count': 22421, 'reviews_count': 1852, 'Format': '198 pages, Paperback'}\n",
      "{'Name': 'Lemon Meringue Pie Murder', 'Author': 'Joanne Fluke', 'rating': 3.86, 'rating_count': 20810, 'reviews_count': 1193, 'Format': '348 pages, Paperback'}\n",
      "{'Name': 'Secondhand Spirits', 'Author': 'Juliet Blackwell', 'rating': 3.88, 'rating_count': 11764, 'reviews_count': 1151, 'Format': '314 pages, Mass Market Paperback'}\n",
      "{'Name': 'Death on Demand', 'Author': 'Carolyn G. Hart', 'rating': 3.85, 'rating_count': 8438, 'reviews_count': 403, 'Format': '195 pages, Mass Market Paperback'}\n",
      "{'Name': 'The Cat Who Could Read Backwards', 'Author': 'Lilian Jackson Braun', 'rating': 3.86, 'rating_count': 31749, 'reviews_count': 1629, 'Format': '256 pages, Paperback'}\n",
      "{'Name': \"The No. 1 Ladies' Detective Agency\", 'Author': 'Alexander McCall Smith', 'rating': 3.81, 'rating_count': 264460, 'reviews_count': 13196, 'Format': '235 pages, Paperback'}\n",
      "{'Name': 'The Sweetness at the Bottom of the Pie', 'Author': 'Alan Bradley', 'rating': 3.82, 'rating_count': 168346, 'reviews_count': 18193, 'Format': '374 pages, Hardcover'}\n",
      "{'Name': 'A Killer Plot', 'Author': 'Ellery Adams', 'rating': 3.78, 'rating_count': 6006, 'reviews_count': 628, 'Format': '311 pages, Mass Market Paperback'}\n",
      "{'Name': 'On What Grounds', 'Author': 'Cleo Coyle', 'rating': 3.68, 'rating_count': 17049, 'reviews_count': 1823, 'Format': '275 pages, Mass Market Paperback'}\n",
      "{'Name': 'Bookmarked for Death', 'Author': 'Lorna Barrett', 'rating': 3.8, 'rating_count': 7134, 'reviews_count': 588, 'Format': '297 pages, Paperback'}\n",
      "{'Name': 'Crocodile on the Sandbank', 'Author': 'Elizabeth Peters', 'rating': 4.0, 'rating_count': 73836, 'reviews_count': 5516, 'Format': '262 pages, Kindle Edition'}\n",
      "{'Name': 'One for the Money', 'Author': 'Janet Evanovich', 'rating': 4.05, 'rating_count': 549522, 'reviews_count': 17111, 'Format': '320 pages, Paperback'}\n",
      "{'Name': 'A Dead Sister', 'Author': 'Anna Celeste Burke', 'rating': 4.48, 'rating_count': 474, 'reviews_count': 70, 'Format': '332 pages, Paperback'}\n",
      "{'Name': 'Murder is Binding', 'Author': 'Lorna Barrett', 'rating': 3.67, 'rating_count': 12816, 'reviews_count': 1296, 'Format': '281 pages, Mass Market Paperback'}\n",
      "{'Name': \"Finger Lickin' Fifteen\", 'Author': 'Janet Evanovich', 'rating': 4.02, 'rating_count': 90148, 'reviews_count': 4474, 'Format': '308 pages, Hardcover'}\n",
      "{'Name': 'How to Murder a Millionaire', 'Author': 'Nancy Martin', 'rating': 3.83, 'rating_count': 4973, 'reviews_count': 369, 'Format': '266 pages, Mass Market Paperback'}\n",
      "{'Name': 'Wicked Appetite', 'Author': 'Janet Evanovich', 'rating': 3.79, 'rating_count': 58343, 'reviews_count': 4992, 'Format': '319 pages, Hardcover'}\n",
      "{'Name': 'Dead Until Dark', 'Author': 'Charlaine Harris', 'rating': 3.97, 'rating_count': 538939, 'reviews_count': 20107, 'Format': '292 pages, Mass Market Paperback'}\n",
      "{'Name': 'Strawberry Shortcake Murder', 'Author': 'Joanne Fluke', 'rating': 3.85, 'rating_count': 26517, 'reviews_count': 1731, 'Format': '310 pages, Paperback'}\n",
      "{'Name': 'The Spellman Files', 'Author': 'Lisa Lutz', 'rating': 3.87, 'rating_count': 35777, 'reviews_count': 4087, 'Format': '6 pages, Audio CD'}\n",
      "{'Name': 'Plum Pudding Murder', 'Author': 'Joanne Fluke', 'rating': 3.81, 'rating_count': 13443, 'reviews_count': 868, 'Format': '307 pages, Hardcover'}\n",
      "{'Name': 'Maisie Dobbs', 'Author': 'Jacqueline Winspear', 'rating': 3.92, 'rating_count': 110166, 'reviews_count': 9846, 'Format': '292 pages, Paperback'}\n",
      "{'Name': \"Plum Lovin'\", 'Author': 'Janet Evanovich', 'rating': 3.75, 'rating_count': 56498, 'reviews_count': 1845, 'Format': '164 pages, Hardcover'}\n",
      "{'Name': 'Size 12 Is Not Fat', 'Author': 'Meg Cabot', 'rating': 3.76, 'rating_count': 87846, 'reviews_count': 2936, 'Format': '345 pages, Paperback'}\n",
      "{'Name': 'The Amazing Mrs. Pollifax', 'Author': 'Dorothy Gilman', 'rating': 4.18, 'rating_count': 10933, 'reviews_count': 909, 'Format': '176 pages, Mass Market Paperback'}\n",
      "{'Name': 'The Quiche of Death', 'Author': 'M.C. Beaton', 'rating': 3.73, 'rating_count': 37404, 'reviews_count': 4198, 'Format': '246 pages, Mass Market Paperback'}\n",
      "{'Name': 'Crewel World', 'Author': 'Monica Ferris', 'rating': 3.76, 'rating_count': 4490, 'reviews_count': 401, 'Format': '245 pages, Mass Market Paperback'}\n"
     ]
    }
   ],
   "source": [
    "product_data = []\n",
    "\n",
    "for link in product_links:\n",
    "    try:\n",
    "        r = requests.get(link)\n",
    "        soup = BeautifulSoup(r.text, 'lxml')\n",
    "\n",
    "        try:\n",
    "            h1_tag = soup.find('h1')\n",
    "            if h1_tag:\n",
    "                Name = h1_tag.text.strip()\n",
    "            else:\n",
    "                Name = None\n",
    "        except AttributeError:\n",
    "            print(\"Error occurred while scraping 'h1' tag in link:\", link)\n",
    "            Name = None\n",
    "\n",
    "        try:\n",
    "            contributor_tag = soup.find('span', class_='ContributorLink__name')\n",
    "            if contributor_tag:\n",
    "                Contributor_Name = contributor_tag.text.strip()\n",
    "            else:\n",
    "                Contributor_Name = None\n",
    "        except AttributeError:\n",
    "            print(\"Error occurred while scraping 'ContributorLink__name' in link:\", link)\n",
    "            Contributor_Name = None\n",
    "\n",
    "        rating_text = soup.find('span', class_='RatingStars RatingStars__medium')\n",
    "        if rating_text:\n",
    "            try:\n",
    "                rating = float(rating_text['aria-label'].split()[1])\n",
    "            except (IndexError, ValueError):\n",
    "                print(\"Error occurred while scraping 'rating' in link:\", link)\n",
    "                rating = None\n",
    "        else:\n",
    "            print(\"Error occurred while scraping 'rating' in link:\", link)\n",
    "            rating = None\n",
    "\n",
    "        try:\n",
    "            rating_count_text = soup.find('span', {'data-testid': 'ratingsCount'}).text\n",
    "            rating_count = int(rating_count_text.replace(',', '').split()[0])\n",
    "        except (AttributeError, ValueError):\n",
    "            print(\"Error occurred while scraping 'rating_count' in link:\", link)\n",
    "            rating_count = None\n",
    "\n",
    "        try:\n",
    "            reviews_count_text = soup.find('span', class_='u-dot-before').text\n",
    "            reviews_count = int(reviews_count_text.replace(',', '').split()[0])\n",
    "        except (AttributeError, ValueError):\n",
    "            print(\"Error occurred while scraping 'reviews_count' in link:\", link)\n",
    "            reviews_count = None\n",
    "\n",
    "        try:\n",
    "            Format = soup.find('p').text.strip()\n",
    "        except AttributeError:\n",
    "            print(\"Error occurred while scraping 'Format' in link:\", link)\n",
    "            Format = None\n",
    "\n",
    "        Book = {'Name': Name, 'Author': Contributor_Name, 'rating': rating, 'rating_count': rating_count,\n",
    "                'reviews_count': reviews_count, 'Format': Format}\n",
    "        print(Book)\n",
    "        product_data.append(Book)\n",
    "    except requests.exceptions.RequestException as e:\n",
    "        print(\"Error occurred while making a request to the link:\", link)\n",
    "        print(e)\n"
   ]
  },
  {
   "cell_type": "code",
   "execution_count": 40,
   "metadata": {},
   "outputs": [],
   "source": [
    "df=pd.DataFrame(product_data)"
   ]
  },
  {
   "cell_type": "code",
   "execution_count": 41,
   "metadata": {},
   "outputs": [
    {
     "data": {
      "text/html": [
       "<div>\n",
       "<style scoped>\n",
       "    .dataframe tbody tr th:only-of-type {\n",
       "        vertical-align: middle;\n",
       "    }\n",
       "\n",
       "    .dataframe tbody tr th {\n",
       "        vertical-align: top;\n",
       "    }\n",
       "\n",
       "    .dataframe thead th {\n",
       "        text-align: right;\n",
       "    }\n",
       "</style>\n",
       "<table border=\"1\" class=\"dataframe\">\n",
       "  <thead>\n",
       "    <tr style=\"text-align: right;\">\n",
       "      <th></th>\n",
       "      <th>Name</th>\n",
       "      <th>Author</th>\n",
       "      <th>rating</th>\n",
       "      <th>rating_count</th>\n",
       "      <th>reviews_count</th>\n",
       "      <th>Format</th>\n",
       "    </tr>\n",
       "  </thead>\n",
       "  <tbody>\n",
       "    <tr>\n",
       "      <th>0</th>\n",
       "      <td>The Secret of Chimneys</td>\n",
       "      <td>Agatha Christie</td>\n",
       "      <td>3.85</td>\n",
       "      <td>27387.0</td>\n",
       "      <td>2152.0</td>\n",
       "      <td>400 pages, Paperback</td>\n",
       "    </tr>\n",
       "    <tr>\n",
       "      <th>1</th>\n",
       "      <td>Mum's the Word</td>\n",
       "      <td>Kate Collins</td>\n",
       "      <td>3.75</td>\n",
       "      <td>5809.0</td>\n",
       "      <td>453.0</td>\n",
       "      <td>304 pages, Mass Market Paperback</td>\n",
       "    </tr>\n",
       "    <tr>\n",
       "      <th>2</th>\n",
       "      <td>Body Movers</td>\n",
       "      <td>Stephanie Bond</td>\n",
       "      <td>3.87</td>\n",
       "      <td>14255.0</td>\n",
       "      <td>728.0</td>\n",
       "      <td>384 pages, Mass Market Paperback</td>\n",
       "    </tr>\n",
       "    <tr>\n",
       "      <th>3</th>\n",
       "      <td>The Julius House</td>\n",
       "      <td>Charlaine Harris</td>\n",
       "      <td>3.85</td>\n",
       "      <td>19010.0</td>\n",
       "      <td>823.0</td>\n",
       "      <td>256 pages, Mass Market Paperback</td>\n",
       "    </tr>\n",
       "    <tr>\n",
       "      <th>4</th>\n",
       "      <td>Tears of the Giraffe</td>\n",
       "      <td>Alexander McCall Smith</td>\n",
       "      <td>3.98</td>\n",
       "      <td>56720.0</td>\n",
       "      <td>3363.0</td>\n",
       "      <td>233 pages, Paperback</td>\n",
       "    </tr>\n",
       "    <tr>\n",
       "      <th>...</th>\n",
       "      <td>...</td>\n",
       "      <td>...</td>\n",
       "      <td>...</td>\n",
       "      <td>...</td>\n",
       "      <td>...</td>\n",
       "      <td>...</td>\n",
       "    </tr>\n",
       "    <tr>\n",
       "      <th>95</th>\n",
       "      <td>Plum Lovin'</td>\n",
       "      <td>Janet Evanovich</td>\n",
       "      <td>3.75</td>\n",
       "      <td>56498.0</td>\n",
       "      <td>1845.0</td>\n",
       "      <td>164 pages, Hardcover</td>\n",
       "    </tr>\n",
       "    <tr>\n",
       "      <th>96</th>\n",
       "      <td>Size 12 Is Not Fat</td>\n",
       "      <td>Meg Cabot</td>\n",
       "      <td>3.76</td>\n",
       "      <td>87846.0</td>\n",
       "      <td>2936.0</td>\n",
       "      <td>345 pages, Paperback</td>\n",
       "    </tr>\n",
       "    <tr>\n",
       "      <th>97</th>\n",
       "      <td>The Amazing Mrs. Pollifax</td>\n",
       "      <td>Dorothy Gilman</td>\n",
       "      <td>4.18</td>\n",
       "      <td>10933.0</td>\n",
       "      <td>909.0</td>\n",
       "      <td>176 pages, Mass Market Paperback</td>\n",
       "    </tr>\n",
       "    <tr>\n",
       "      <th>98</th>\n",
       "      <td>The Quiche of Death</td>\n",
       "      <td>M.C. Beaton</td>\n",
       "      <td>3.73</td>\n",
       "      <td>37404.0</td>\n",
       "      <td>4198.0</td>\n",
       "      <td>246 pages, Mass Market Paperback</td>\n",
       "    </tr>\n",
       "    <tr>\n",
       "      <th>99</th>\n",
       "      <td>Crewel World</td>\n",
       "      <td>Monica Ferris</td>\n",
       "      <td>3.76</td>\n",
       "      <td>4490.0</td>\n",
       "      <td>401.0</td>\n",
       "      <td>245 pages, Mass Market Paperback</td>\n",
       "    </tr>\n",
       "  </tbody>\n",
       "</table>\n",
       "<p>100 rows × 6 columns</p>\n",
       "</div>"
      ],
      "text/plain": [
       "                         Name                  Author  rating  rating_count  \\\n",
       "0      The Secret of Chimneys         Agatha Christie    3.85       27387.0   \n",
       "1              Mum's the Word            Kate Collins    3.75        5809.0   \n",
       "2                 Body Movers          Stephanie Bond    3.87       14255.0   \n",
       "3            The Julius House        Charlaine Harris    3.85       19010.0   \n",
       "4        Tears of the Giraffe  Alexander McCall Smith    3.98       56720.0   \n",
       "..                        ...                     ...     ...           ...   \n",
       "95                Plum Lovin'         Janet Evanovich    3.75       56498.0   \n",
       "96         Size 12 Is Not Fat               Meg Cabot    3.76       87846.0   \n",
       "97  The Amazing Mrs. Pollifax          Dorothy Gilman    4.18       10933.0   \n",
       "98        The Quiche of Death             M.C. Beaton    3.73       37404.0   \n",
       "99               Crewel World           Monica Ferris    3.76        4490.0   \n",
       "\n",
       "    reviews_count                            Format  \n",
       "0          2152.0              400 pages, Paperback  \n",
       "1           453.0  304 pages, Mass Market Paperback  \n",
       "2           728.0  384 pages, Mass Market Paperback  \n",
       "3           823.0  256 pages, Mass Market Paperback  \n",
       "4          3363.0              233 pages, Paperback  \n",
       "..            ...                               ...  \n",
       "95         1845.0              164 pages, Hardcover  \n",
       "96         2936.0              345 pages, Paperback  \n",
       "97          909.0  176 pages, Mass Market Paperback  \n",
       "98         4198.0  246 pages, Mass Market Paperback  \n",
       "99          401.0  245 pages, Mass Market Paperback  \n",
       "\n",
       "[100 rows x 6 columns]"
      ]
     },
     "execution_count": 41,
     "metadata": {},
     "output_type": "execute_result"
    }
   ],
   "source": [
    "df"
   ]
  },
  {
   "cell_type": "code",
   "execution_count": 42,
   "metadata": {},
   "outputs": [],
   "source": [
    "test='https://www.goodreads.com/book/show/512385.The_Trouble_With_Magic?ac=1&from_search=true&qid=4pYf11Lurw&rank=1'\n",
    "test1=\"https://www.goodreads.com/book/show/518518.The_Chocolate_Cat_Caper?ac=1&from_search=true&qid=DiZhQizuX4&rank=1\""
   ]
  },
  {
   "cell_type": "code",
   "execution_count": 43,
   "metadata": {},
   "outputs": [],
   "source": [
    "r1=requests.get(test1)\n",
    "soup1=BeautifulSoup(r1.text,'html.parser')"
   ]
  },
  {
   "cell_type": "code",
   "execution_count": 44,
   "metadata": {},
   "outputs": [],
   "source": [
    "r = requests.get(test)\n",
    "soup = BeautifulSoup(r.text, 'html.parser')"
   ]
  },
  {
   "cell_type": "code",
   "execution_count": 45,
   "metadata": {},
   "outputs": [
    {
     "data": {
      "text/plain": [
       "[]"
      ]
     },
     "execution_count": 45,
     "metadata": {},
     "output_type": "execute_result"
    }
   ],
   "source": [
    "soup.find_all('dd')"
   ]
  },
  {
   "cell_type": "code",
   "execution_count": 46,
   "metadata": {},
   "outputs": [
    {
     "data": {
      "text/plain": [
       "'261 pages, Paperback'"
      ]
     },
     "execution_count": 46,
     "metadata": {},
     "output_type": "execute_result"
    }
   ],
   "source": [
    "pages_format = soup.find('p', {'data-testid': 'pagesFormat'}).text\n",
    "pages_format"
   ]
  },
  {
   "cell_type": "code",
   "execution_count": 47,
   "metadata": {},
   "outputs": [
    {
     "data": {
      "text/plain": [
       "'240 pages, Mass Market Paperback'"
      ]
     },
     "execution_count": 47,
     "metadata": {},
     "output_type": "execute_result"
    }
   ],
   "source": [
    "pages_format = soup1.find('p', {'data-testid': 'pagesFormat'}).text\n",
    "pages_format"
   ]
  },
  {
   "cell_type": "code",
   "execution_count": 48,
   "metadata": {},
   "outputs": [],
   "source": [
    "test3=\"https://www.goodreads.com/book/show/8173806-this-pen-for-hire\""
   ]
  },
  {
   "cell_type": "code",
   "execution_count": 49,
   "metadata": {},
   "outputs": [],
   "source": [
    "r=requests.get(test3)\n",
    "soup4=BeautifulSoup(r.text,'lxml')"
   ]
  },
  {
   "cell_type": "code",
   "execution_count": 50,
   "metadata": {},
   "outputs": [],
   "source": [
    "soup4.find('div',class_=\"RatingStatistics__rating\")"
   ]
  },
  {
   "cell_type": "code",
   "execution_count": null,
   "metadata": {},
   "outputs": [],
   "source": []
  }
 ],
 "metadata": {
  "kernelspec": {
   "display_name": "venv",
   "language": "python",
   "name": "python3"
  },
  "language_info": {
   "codemirror_mode": {
    "name": "ipython",
    "version": 3
   },
   "file_extension": ".py",
   "mimetype": "text/x-python",
   "name": "python",
   "nbconvert_exporter": "python",
   "pygments_lexer": "ipython3",
   "version": "3.11.8"
  }
 },
 "nbformat": 4,
 "nbformat_minor": 2
}
